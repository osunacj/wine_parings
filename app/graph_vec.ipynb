{
 "cells": [
  {
   "cell_type": "code",
   "execution_count": 1,
   "metadata": {},
   "outputs": [],
   "source": [
    "import matplotlib.pyplot as plt\n",
    "from pyvis.network import Network\n",
    "import networkx as nx\n",
    "from pathlib import Path\n",
    "import pandas as pd\n",
    "import numpy as np\n",
    "\n",
    "import nest_asyncio\n",
    "\n",
    "from llama_index.core import Response\n",
    "from llama_index.core.evaluation import (\n",
    "    FaithfulnessEvaluator,\n",
    "    DatasetGenerator,\n",
    "    RelevancyEvaluator,\n",
    ")\n",
    "\n",
    "from app.notebooks.helpers.bot.kg_generation import create_kg_triplets\n",
    "from notebooks.helpers.bot.bot import (\n",
    "    get_chat_engine,\n",
    "    load_llm,\n",
    "    load_embedding_model,\n",
    "    setup_index_and_storage,\n",
    "    generate_pairings_documents,\n",
    "    service,\n",
    ")\n",
    "\n",
    "nest_asyncio.apply()\n",
    "%matplotlib inline"
   ]
  },
  {
   "cell_type": "code",
   "execution_count": null,
   "metadata": {},
   "outputs": [],
   "source": [
    "def display_eval_df(query: str, response: Response, eval_result: Response) -> None:\n",
    "    eval_df = pd.DataFrame(\n",
    "        {\n",
    "            \"Query\": query,\n",
    "            \"Response\": str(response),\n",
    "            \"Source\": (' '.join(eval_result.contexts)[:1000] + \"...\"),\n",
    "            \"Evaluation Result\": eval_result.passing,\n",
    "        },\n",
    "        index = [0]\n",
    "    )\n",
    "    eval_df = eval_df.style.set_properties(\n",
    "        **{\n",
    "            \"inline-size\": \"600px\",\n",
    "            \"overflow-wrap\": \"break-word\",\n",
    "        },\n",
    "        subset=[\"Response\", \"Source\"]\n",
    "    )\n",
    "    display(eval_df)\n",
    "\n"
   ]
  },
  {
   "cell_type": "code",
   "execution_count": 2,
   "metadata": {},
   "outputs": [],
   "source": [
    "def parse_triplets(text):\n",
    "    triplets = []\n",
    "    rows = text.split('\\n')\n",
    "    for row in rows[:-1]:\n",
    "        triplet = row.split('**')\n",
    "        triplets.append((triplet[0], triplet[1], triplet[2]))\n",
    "    return triplets\n",
    "\n",
    "kg_triplets = []\n",
    "\n",
    "KG = create_kg_triplets(sample_size=10, for_model=False)\n",
    "G = nx.DiGraph()\n",
    "for _, row in KG.iterrows():\n",
    "    triplets = parse_triplets(row['triplets'])\n",
    "    for triplet in triplets:\n",
    "        G.add_edge(triplet[0], triplet[2], label=triplet[1])"
   ]
  },
  {
   "cell_type": "code",
   "execution_count": null,
   "metadata": {},
   "outputs": [],
   "source": [
    "KG = create_kg_triplets(sample_size=1000)\n",
    "kg_pairings = KG.apply(generate_pairings_documents, axis=1)"
   ]
  },
  {
   "cell_type": "code",
   "execution_count": null,
   "metadata": {},
   "outputs": [],
   "source": [
    "print(kg_pairings.iloc[0].get_content(metadata_mode='llm'))\n",
    "print(kg_pairings.iloc[0].get_node_info())"
   ]
  },
  {
   "cell_type": "code",
   "execution_count": null,
   "metadata": {},
   "outputs": [],
   "source": [
    "llm = load_llm('ollama')"
   ]
  },
  {
   "cell_type": "code",
   "execution_count": null,
   "metadata": {},
   "outputs": [],
   "source": [
    "embed_model = load_embedding_model(\"foodbert\")\n",
    "service_context = service(llm=llm, embed_model=embed_model)"
   ]
  },
  {
   "cell_type": "code",
   "execution_count": null,
   "metadata": {},
   "outputs": [],
   "source": [
    "storage_context, kg_index = setup_index_and_storage(\n",
    "        service=service_context,\n",
    "        kg_pairings=kg_pairings,\n",
    "        show_progress=False,\n",
    "        force=True,\n",
    "    )"
   ]
  },
  {
   "cell_type": "code",
   "execution_count": null,
   "metadata": {},
   "outputs": [],
   "source": [
    "chat_engine = get_chat_engine(\n",
    "    kg_index,\n",
    "    chat_mode=\"context\",\n",
    "    retriver_mode=\"hybrid\",\n",
    "    use_global_node_triplets=True,\n",
    "    max_keywords_per_query=10,\n",
    "    num_chunks_per_query=15,\n",
    "    similarity_top_k=2,\n",
    "    graph_store_query_depth=2,\n",
    ")\n",
    "chat_engine.reset()"
   ]
  },
  {
   "cell_type": "code",
   "execution_count": null,
   "metadata": {},
   "outputs": [],
   "source": [
    "data_generator = DatasetGenerator.from_documents(\n",
    "        kg_pairings, service_context=service_context\n",
    ")\n",
    "eval_questions = data_generator.generate_questions_from_nodes(num=3)\n",
    "\n",
    "evaluator = RelevancyEvaluator(service_context=service_context)"
   ]
  },
  {
   "cell_type": "code",
   "execution_count": null,
   "metadata": {},
   "outputs": [],
   "source": [
    "eval_questions[1]"
   ]
  },
  {
   "cell_type": "code",
   "execution_count": null,
   "metadata": {},
   "outputs": [],
   "source": [
    "response = chat_engine.chat(eval_questions[1])\n",
    "print(response)\n",
    "eval_result = evaluator.evaluate_response(\n",
    "    query=eval_questions[1], response=response\n",
    ")"
   ]
  },
  {
   "cell_type": "code",
   "execution_count": null,
   "metadata": {},
   "outputs": [],
   "source": [
    "print(eval_result.passing)\n",
    "print(eval_result.score)\n",
    "print(eval_result.feedback)\n",
    "print(eval_result.contexts)"
   ]
  },
  {
   "cell_type": "code",
   "execution_count": null,
   "metadata": {},
   "outputs": [],
   "source": [
    "display_eval_df(eval_questions[1], response, eval_result)"
   ]
  },
  {
   "cell_type": "code",
   "execution_count": null,
   "metadata": {},
   "outputs": [],
   "source": [
    "response = chat_engine.chat(\n",
    "    \"What are the primary grape varieties used in producing Bordeaux wines?\",\n",
    ")\n",
    "\n",
    "print(response)"
   ]
  },
  {
   "cell_type": "code",
   "execution_count": null,
   "metadata": {},
   "outputs": [],
   "source": [
    "G = kg_index.get_networkx_graph(limit=1000)"
   ]
  },
  {
   "cell_type": "code",
   "execution_count": 4,
   "metadata": {},
   "outputs": [
    {
     "name": "stdout",
     "output_type": "stream",
     "text": [
      "nx.html\n"
     ]
    },
    {
     "data": {
      "text/html": [
       "\n",
       "        <iframe\n",
       "            width=\"100%\"\n",
       "            height=\"750px\"\n",
       "            src=\"nx.html\"\n",
       "            frameborder=\"0\"\n",
       "            allowfullscreen\n",
       "            \n",
       "        ></iframe>\n",
       "        "
      ],
      "text/plain": [
       "<IPython.lib.display.IFrame at 0x7f255e148eb0>"
      ]
     },
     "execution_count": 4,
     "metadata": {},
     "output_type": "execute_result"
    }
   ],
   "source": [
    "net = Network(notebook = True, cdn_resources = \"remote\",\n",
    "                # bgcolor = \"#222222\",\n",
    "                font_color = \"black\",\n",
    "                height = \"750px\",\n",
    "                width = \"100%\",\n",
    "                select_menu = True,\n",
    "                filter_menu = True,\n",
    ")\n",
    "net.show_buttons(filter_=\"physics\")\n",
    "net.from_nx(G)\n",
    "net.show(\"nx.html\")"
   ]
  },
  {
   "cell_type": "code",
   "execution_count": null,
   "metadata": {},
   "outputs": [],
   "source": [
    "pos = nx.spring_layout(G, seed=42, k=1.5)\n",
    "labels = nx.get_edge_attributes(G, 'label')\n",
    "plt.figure(figsize=(20, 20))\n",
    "nx.draw(G, pos, font_size=8, node_size=200, node_color='lightblue', edge_color='gray', alpha=0.6)\n",
    "# nx.draw_networkx_edge_labels(G, pos, font_size=3, label_pos=0.3, verticalalignment='baseline')\n",
    "plt.title('Knowledge Graph')\n",
    "plt.show()"
   ]
  },
  {
   "cell_type": "code",
   "execution_count": null,
   "metadata": {},
   "outputs": [],
   "source": [
    "for edge in G.edges(data=True):\n",
    "    print(edge)"
   ]
  },
  {
   "cell_type": "code",
   "execution_count": null,
   "metadata": {},
   "outputs": [],
   "source": [
    "print(G.number_of_nodes())"
   ]
  },
  {
   "cell_type": "code",
   "execution_count": null,
   "metadata": {},
   "outputs": [],
   "source": []
  }
 ],
 "metadata": {
  "kernelspec": {
   "display_name": "wine_parings-Y4sTaGQc",
   "language": "python",
   "name": "python3"
  },
  "language_info": {
   "codemirror_mode": {
    "name": "ipython",
    "version": 3
   },
   "file_extension": ".py",
   "mimetype": "text/x-python",
   "name": "python",
   "nbconvert_exporter": "python",
   "pygments_lexer": "ipython3",
   "version": "3.8.10"
  }
 },
 "nbformat": 4,
 "nbformat_minor": 2
}
