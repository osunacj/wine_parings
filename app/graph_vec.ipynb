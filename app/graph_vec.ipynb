{
 "cells": [
  {
   "cell_type": "code",
   "execution_count": 6,
   "metadata": {},
   "outputs": [],
   "source": [
    "import matplotlib.pyplot as plt\n",
    "from pyvis.network import Network\n",
    "import networkx as nx\n",
    "from pathlib import Path\n",
    "import pandas as pd\n",
    "import numpy as np\n",
    "\n",
    "import nest_asyncio\n",
    "\n",
    "from llama_index.core import Response\n",
    "from llama_index.core.evaluation import (\n",
    "    FaithfulnessEvaluator,\n",
    "    DatasetGenerator,\n",
    "    RelevancyEvaluator,\n",
    "    EvaluationResult,\n",
    "    CorrectnessEvaluator,\n",
    "    AnswerRelevancyEvaluator,\n",
    "    ContextRelevancyEvaluator,\n",
    "    BatchEvalRunner,\n",
    "    RetrieverEvaluator,\n",
    "    SemanticSimilarityEvaluator,\n",
    "    QueryResponseDataset,\n",
    ")\n",
    "\n",
    "from notebooks.helpers.bot.promtps import question_gen_query,  EVALUATION_CORRECTNESS_SYSTEM_TEMPLATE\n",
    "from evaluate_pairings import prepare_evalution_qa, parse_evalutions, get_qr_pairs, evaluate_correctness, evaluate_faithfulness\n",
    "from app.notebooks.helpers.bot.kg_generation import create_kg_triplets\n",
    "from notebooks.helpers.bot.bot import (\n",
    "    get_chat_engine,\n",
    "    get_query_engine,\n",
    "    load_llm,\n",
    "    load_embedding_model,\n",
    "    setup_index_and_storage,\n",
    "    generate_pairings_documents,\n",
    "    service,\n",
    ")\n",
    "\n",
    "\n",
    "nest_asyncio.apply()\n",
    "%matplotlib inline"
   ]
  },
  {
   "cell_type": "code",
   "execution_count": 2,
   "metadata": {},
   "outputs": [],
   "source": [
    "def display_eval_df(query: str, response: Response, eval_result: Response) -> None:\n",
    "    eval_df = pd.DataFrame(\n",
    "        {\n",
    "            \"Query\": query,\n",
    "            \"Response\": str(response),\n",
    "            \"Source\": (' '.join(eval_result.contexts)[:1000] + \"...\"),\n",
    "            \"Evaluation Result\": eval_result.passing,\n",
    "        },\n",
    "        index = [0]\n",
    "    )\n",
    "    eval_df = eval_df.style.set_properties(\n",
    "        **{\n",
    "            \"inline-size\": \"600px\",\n",
    "            \"overflow-wrap\": \"break-word\",\n",
    "        },\n",
    "        subset=[\"Response\", \"Source\"]\n",
    "    )\n",
    "    display(eval_df)\n",
    "\n"
   ]
  },
  {
   "cell_type": "code",
   "execution_count": 3,
   "metadata": {},
   "outputs": [
    {
     "name": "stdout",
     "output_type": "stream",
     "text": [
      "Size of KG is:  (10362, 2)\n"
     ]
    }
   ],
   "source": [
    "def parse_triplets(text):\n",
    "    triplets = []\n",
    "    rows = text.split('\\n')\n",
    "    for row in rows[:-1]:\n",
    "        triplet = row.split('**')\n",
    "        triplets.append((triplet[0], triplet[1], triplet[2]))\n",
    "    return triplets\n",
    "\n",
    "kg_triplets = []\n",
    "\n",
    "KG = create_kg_triplets(sample_size=10, for_model=False)\n",
    "G = nx.DiGraph()\n",
    "for _, row in KG.iterrows():\n",
    "    triplets = parse_triplets(row['triplets'])\n",
    "    for triplet in triplets:\n",
    "        G.add_edge(triplet[0], triplet[2], label=triplet[1])"
   ]
  },
  {
   "cell_type": "code",
   "execution_count": 7,
   "metadata": {},
   "outputs": [
    {
     "name": "stdout",
     "output_type": "stream",
     "text": [
      "Size of KG is:  (10362, 2)\n"
     ]
    }
   ],
   "source": [
    "KG = create_kg_triplets()\n",
    "kg_pairings = KG.apply(generate_pairings_documents, axis=1)"
   ]
  },
  {
   "cell_type": "code",
   "execution_count": 12,
   "metadata": {},
   "outputs": [
    {
     "data": {
      "text/plain": [
       "5000"
      ]
     },
     "execution_count": 12,
     "metadata": {},
     "output_type": "execute_result"
    }
   ],
   "source": [
    "len(kg_pairings)"
   ]
  },
  {
   "cell_type": "code",
   "execution_count": 8,
   "metadata": {},
   "outputs": [
    {
     "name": "stdout",
     "output_type": "stream",
     "text": [
      "Metadata: first=>mineral\n",
      "second=>lime\n",
      "third=>apple\n",
      "fourth=>peach\n",
      "fifth=>lemon\n",
      "-----\n",
      "Content: The object variety, **Riesling Rheinhessen, Germany** has a relationship of **has_aroma_of** with the object **mineral\n",
      "The object variety, **Riesling Rheinhessen, Germany** has a relationship of **has_aroma_of** with the object **lime\n",
      "The object variety, **Riesling Rheinhessen, Germany** has a relationship of **has_aroma_of** with the object **apple\n",
      "The object variety, **Riesling Rheinhessen, Germany** has a relationship of **has_aroma_of** with the object **peach\n",
      "The object variety, **Riesling Rheinhessen, Germany** has a relationship of **has_aroma_of** with the object **lemon\n"
     ]
    }
   ],
   "source": [
    "print(kg_pairings.iloc[0].get_content(metadata_mode='llm'))"
   ]
  },
  {
   "cell_type": "code",
   "execution_count": 9,
   "metadata": {},
   "outputs": [],
   "source": [
    "llm = load_llm('openai3.5')\n",
    "embed_model = load_embedding_model(\"openai3\")\n",
    "service_context = service(llm=llm, embed_model=embed_model)"
   ]
  },
  {
   "cell_type": "code",
   "execution_count": 10,
   "metadata": {},
   "outputs": [],
   "source": [
    "storage_context, kg_index = setup_index_and_storage(\n",
    "    service=service_context,\n",
    "    kg_pairings=None,\n",
    "    show_progress=False,\n",
    "    force=False,\n",
    ")\n"
   ]
  },
  {
   "cell_type": "code",
   "execution_count": 14,
   "metadata": {},
   "outputs": [],
   "source": [
    "metrics = [\"mrr\", \"hit_rate\"]\n",
    "\n",
    "relevancy_eval = RelevancyEvaluator(service_context=service_context)\n",
    "faithfulness_eval = FaithfulnessEvaluator(service_context=service_context)\n",
    "semantic_eval = SemanticSimilarityEvaluator(service_context=service_context)\n",
    "answer_eval = AnswerRelevancyEvaluator(service_context=service_context)\n",
    "context_eval = ContextRelevancyEvaluator(service_context=service_context)\n",
    "correctness_eval = CorrectnessEvaluator(\n",
    "    llm=load_llm(\"openai3.5\"),\n",
    "    parser_function=default_parser,\n",
    "    eval_template=EVALUATION_CORRECTNESS_SYSTEM_TEMPLATE,\n",
    ")\n",
    "retriever_eval = RetrieverEvaluator.from_metric_names(\n",
    "    metrics,\n",
    "    service_context=service_context,\n",
    "    retriever=kg_index.as_retriever(retriever_mode=\"hybrid\"),\n",
    ")\n",
    "\n",
    "runner = BatchEvalRunner(\n",
    "    {\n",
    "        \"relevancy\": relevancy_eval,\n",
    "        \"answer_relevancy\": answer_eval,\n",
    "        \"semantic\": semantic_eval,\n",
    "        \"context_relevancy\": context_eval,\n",
    "    },\n",
    "    workers=4,\n",
    ")\n",
    "\n",
    "\n",
    "CHAT_MODE = \"simple\"\n",
    "RETRIEVER_MODE = \"embedding\"\n",
    "RESPONSE_MODE = \"compact\""
   ]
  },
  {
   "cell_type": "code",
   "execution_count": 3,
   "metadata": {},
   "outputs": [],
   "source": [
    "query_engine = get_query_engine(\n",
    "    kg_index,\n",
    "    chat_mode=CHAT_MODE,\n",
    "    retriver_mode=RETRIEVER_MODE,\n",
    "    response_mode=RESPONSE_MODE,\n",
    "    use_global_node_triplets=True,\n",
    "    max_keywords_per_query=10,\n",
    "    num_chunks_per_query=10,\n",
    "    similarity_top_k=4,\n",
    "    graph_store_query_depth=4,\n",
    "    include_text=False,  # Do not include text of the node into the model\n",
    ")\n",
    "\n",
    "queries, references = get_qr_pairs()\n",
    "responses = [query_engine.query(query) for query in queries]"
   ]
  },
  {
   "cell_type": "code",
   "execution_count": 20,
   "metadata": {},
   "outputs": [],
   "source": [
    "eval_results = runner.evaluate_responses(\n",
    "    responses = responses,\n",
    "    queries=queries,\n",
    "    reference=references,  # type: ignore\n",
    "    # contexts=references if CHAT_MODE == \"simple\" else None,  # type: ignore\n",
    ")"
   ]
  },
  {
   "cell_type": "code",
   "execution_count": 21,
   "metadata": {},
   "outputs": [],
   "source": [
    "eval_results[\"faithfulness\"] = evaluate_faithfulness(\n",
    "    faithfulness_eval=faithfulness_eval,\n",
    "    queries = queries,\n",
    "    references = references,\n",
    "    responses = responses,\n",
    ")"
   ]
  },
  {
   "cell_type": "code",
   "execution_count": 22,
   "metadata": {},
   "outputs": [
    {
     "name": "stdout",
     "output_type": "stream",
     "text": [
      "5.0\n",
      "4.0\n",
      "5.0\n",
      "4.0\n",
      "5.0\n",
      "4.0\n",
      "5.0\n",
      "5.0\n",
      "3.0\n",
      "4.5\n"
     ]
    }
   ],
   "source": [
    "eval_results[\"correctnes\"] = evaluate_correctness(\n",
    "    correctness_eval,\n",
    "    queries,\n",
    "    references,\n",
    "    responses = responses,\n",
    ")"
   ]
  },
  {
   "cell_type": "code",
   "execution_count": 23,
   "metadata": {},
   "outputs": [
    {
     "data": {
      "text/plain": [
       "[EvaluationResult(query='What is the alcohol content of the Giant Steps 2014 Applejack Vineyard Pinot Noir from Yarra Valley?', contexts=None, response='Based on my own knowledge, the alcohol content of a typical Pinot Noir from Yarra Valley, such as the Giant Steps 2014 Applejack Vineyard Pinot Noir, is usually around 13-14% ABV.', passing=True, feedback='REASONING:', score=5.0, pairwise_source=None, invalid_result=False, invalid_reason=None),\n",
       " EvaluationResult(query='Which winery produced the Pinot Noir wine from Victoria, Australia?', contexts=None, response='Based on my own knowledge, one of the wineries in Victoria, Australia known for producing Pinot Noir wine is Yarra Yering.', passing=True, feedback='REASONING:', score=4.0, pairwise_source=None, invalid_result=False, invalid_reason=None),\n",
       " EvaluationResult(query='In which province is the Yarra Valley region located?', contexts=None, response='The Yarra Valley region is located in the state of Victoria, Australia.', passing=True, feedback='REASONING:', score=5.0, pairwise_source=None, invalid_result=False, invalid_reason=None),\n",
       " EvaluationResult(query='What is the price of the Giant Steps 2014 Applejack Vineyard Pinot Noir?', contexts=None, response='Based on my own knowledge, the price of the Giant Steps 2014 Applejack Vineyard Pinot Noir is typically around $50 to $60 per bottle.', passing=True, feedback='REASONING:', score=4.0, pairwise_source=None, invalid_result=False, invalid_reason=None),\n",
       " EvaluationResult(query='Can you name the country where the Victoria province is located?', contexts=None, response='Based on my own knowledge, Victoria province is located in Australia.', passing=True, feedback='REASONING:', score=5.0, pairwise_source=None, invalid_result=False, invalid_reason=None),\n",
       " EvaluationResult(query='What is the vintage year of the Pinot Noir wine from Giant Steps?', contexts=None, response='Based on the context provided, it is not possible to determine the vintage year of the Pinot Noir wine from Giant Steps. Vintage year refers to the year in which the grapes used to make the wine were harvested. Without specific information about the vintage year of the Pinot Noir wine from Giant Steps, it is not possible to provide an accurate answer.', passing=True, feedback='REASONING:', score=4.0, pairwise_source=None, invalid_result=False, invalid_reason=None),\n",
       " EvaluationResult(query='Describe the relationship between the variety location and the variety of the Pinot Noir wine.', contexts=None, response='The relationship between the variety location and the variety of Pinot Noir wine is that the location where the grapes are grown can greatly influence the characteristics of the wine. Pinot Noir is known for being a highly expressive grape variety that can showcase different flavors and aromas depending on the region it is grown in. Factors such as climate, soil composition, and altitude can all impact the final product, resulting in a wide range of styles of Pinot Noir wines. For example, Pinot Noir from Burgundy, France is known for its earthy and complex flavors, while Pinot Noir from Oregon, USA tends to be fruit-forward with bright acidity. Therefore, the variety location plays a crucial role in determining the overall profile of the Pinot Noir wine.', passing=True, feedback='REASONING:', score=5.0, pairwise_source=None, invalid_result=False, invalid_reason=None),\n",
       " EvaluationResult(query='How does the region of Yarra Valley relate to the wine variety of Pinot Noir?', contexts=None, response=\"The region of Yarra Valley is known for producing high-quality Pinot Noir wines. The cool climate and unique terroir of the region are well-suited for growing Pinot Noir grapes, which thrive in these conditions. Yarra Valley's reputation for producing excellent Pinot Noir wines has made it a popular destination for wine enthusiasts seeking out this particular variety. Additionally, the region's winemakers have honed their skills in crafting exceptional Pinot Noir wines, further solidifying Yarra Valley's connection to this grape variety.\", passing=True, feedback='REASONING:', score=5.0, pairwise_source=None, invalid_result=False, invalid_reason=None),\n",
       " EvaluationResult(query='What type of wine is the Pinot Noir from Victoria, Australia?', contexts=None, response='The Pinot Noir from Victoria, Australia is a type of red wine.', passing=False, feedback='REASONING:', score=3.0, pairwise_source=None, invalid_result=False, invalid_reason=None),\n",
       " EvaluationResult(query='Explain the significance of the 13.5% alcohol content in the Giant Steps 2014 Applejack Vineyard Pinot Noir.', contexts=None, response='The 13.5% alcohol content in the Giant Steps 2014 Applejack Vineyard Pinot Noir is significant because it indicates the level of ripeness of the grapes at the time of harvest. In cooler climate regions like the Yarra Valley where the Applejack Vineyard is located, achieving optimal ripeness can be a challenge. A higher alcohol content suggests that the grapes were able to fully ripen, leading to a wine with more complexity, depth, and flavor intensity. Additionally, the alcohol content can also impact the overall balance and structure of the wine. In the case of Pinot Noir, a grape known for its delicate and nuanced flavors, the alcohol content can greatly influence the overall character of the wine.', passing=True, feedback='REASONING:', score=4.5, pairwise_source=None, invalid_result=False, invalid_reason=None)]"
      ]
     },
     "execution_count": 23,
     "metadata": {},
     "output_type": "execute_result"
    }
   ],
   "source": [
    "eval_results[\"correctnes\"] "
   ]
  },
  {
   "cell_type": "code",
   "execution_count": 24,
   "metadata": {},
   "outputs": [
    {
     "name": "stdout",
     "output_type": "stream",
     "text": [
      "relevancy Score: 0.9\n",
      "answer_relevancy Score: 1.0\n",
      "semantic Score: 0.8\n",
      "context_relevancy Score: 0.0\n",
      "faithfulness Score: 0.8\n",
      "correctnes Score: 0.9\n"
     ]
    }
   ],
   "source": [
    "parse_evalutions(\n",
    "    eval_results=eval_results,\n",
    "    model=\"gpt-3.5\",\n",
    "    embedding_model=\"gpt-3.5\",\n",
    "    chat_mode=CHAT_MODE,\n",
    "    retriever_mode=RETRIEVER_MODE,\n",
    "    response_mode=RESPONSE_MODE,\n",
    "    queries=queries,\n",
    "    responses=references,\n",
    ")"
   ]
  },
  {
   "cell_type": "code",
   "execution_count": null,
   "metadata": {},
   "outputs": [],
   "source": [
    "evaluator = FaithfulnessEvaluator(service_context=service_context)\n",
    "\n",
    "chat_engine = get_chat_engine(\n",
    "    kg_index,\n",
    "    response_mode=\"compact\",\n",
    "    retriver_mode=\"hybrid\",\n",
    "    chat_mode=\"context\",\n",
    "    use_global_node_triplets=True,\n",
    "    max_keywords_per_query=10,\n",
    "    num_chunks_per_query=10,\n",
    "    similarity_top_k=3,\n",
    "    graph_store_query_depth=3,\n",
    "    include_text=False,\n",
    ")\n",
    "\n",
    "def chat_with_query(query):\n",
    "    response = chat_engine.chat(query)\n",
    "    eval_response = evaluator.evaluate_response(query, response)\n",
    "    return eval_response, query\n",
    "\n",
    "def print_chat_interface(response, query):\n",
    "    interface = f\"\"\"\n",
    "    QUERY: {query}\\n\n",
    "    --------------------------\\n\n",
    "    Context: {response.contexts}\\n\n",
    "    ---------------------------\\n\n",
    "    Response: {response.response}\n",
    "    \"\"\"\n",
    "    print(interface)\n"
   ]
  },
  {
   "cell_type": "code",
   "execution_count": null,
   "metadata": {},
   "outputs": [],
   "source": [
    "import random\n",
    "\n",
    "\n",
    "queries, responses = get_qr_pairs(num=70)\n",
    "indx = random.randint(a=0, b=70)\n",
    "query = queries[indx]\n",
    "reference = responses[indx]\n",
    "eval_response, query = chat_with_query(\"What is the average price for 1990 Chateau Petrus?\")"
   ]
  },
  {
   "cell_type": "code",
   "execution_count": null,
   "metadata": {},
   "outputs": [],
   "source": [
    "print_chat_interface(eval_response, query)"
   ]
  },
  {
   "cell_type": "code",
   "execution_count": null,
   "metadata": {},
   "outputs": [],
   "source": [
    "correctness_eval = CorrectnessEvaluator(service_context=service_context)\n",
    "eval = correctness_eval.evaluate(query = query, response=eval_response.response, referece=reference)"
   ]
  },
  {
   "cell_type": "code",
   "execution_count": null,
   "metadata": {},
   "outputs": [],
   "source": [
    "eval.score"
   ]
  },
  {
   "cell_type": "code",
   "execution_count": null,
   "metadata": {},
   "outputs": [],
   "source": [
    "eval_response, query = chat_with_query(\"What is the average price for 1990 Chateau Petrus?\")\n"
   ]
  },
  {
   "cell_type": "code",
   "execution_count": null,
   "metadata": {},
   "outputs": [],
   "source": [
    "print_chat_interface(eval_response, query)"
   ]
  },
  {
   "cell_type": "code",
   "execution_count": null,
   "metadata": {},
   "outputs": [],
   "source": [
    "G = kg_index.get_networkx_graph(limit=1000)"
   ]
  },
  {
   "cell_type": "code",
   "execution_count": null,
   "metadata": {},
   "outputs": [],
   "source": [
    "net = Network(notebook = True, cdn_resources = \"remote\",\n",
    "                # bgcolor = \"#222222\",\n",
    "                font_color = \"black\",\n",
    "                height = \"750px\",\n",
    "                width = \"100%\",\n",
    "                select_menu = True,\n",
    "                filter_menu = True,\n",
    ")\n",
    "net.show_buttons(filter_=\"physics\")\n",
    "net.from_nx(G)\n",
    "net.show(\"nx.html\")"
   ]
  },
  {
   "cell_type": "code",
   "execution_count": null,
   "metadata": {},
   "outputs": [],
   "source": [
    "pos = nx.spring_layout(G, seed=42, k=1.5)\n",
    "labels = nx.get_edge_attributes(G, 'label')\n",
    "plt.figure(figsize=(20, 20))\n",
    "nx.draw(G, pos, font_size=8, node_size=200, node_color='lightblue', edge_color='gray', alpha=0.6)\n",
    "# nx.draw_networkx_edge_labels(G, pos, font_size=3, label_pos=0.3, verticalalignment='baseline')\n",
    "plt.title('Knowledge Graph')\n",
    "plt.show()"
   ]
  },
  {
   "cell_type": "code",
   "execution_count": null,
   "metadata": {},
   "outputs": [],
   "source": [
    "for edge in G.edges(data=True):\n",
    "    print(edge)"
   ]
  },
  {
   "cell_type": "code",
   "execution_count": null,
   "metadata": {},
   "outputs": [],
   "source": [
    "print(G.number_of_nodes())"
   ]
  },
  {
   "cell_type": "code",
   "execution_count": 14,
   "metadata": {},
   "outputs": [
    {
     "data": {
      "application/vnd.jupyter.widget-view+json": {
       "model_id": "beb0a57054c347cea520ee73cdfc3d6a",
       "version_major": 2,
       "version_minor": 0
      },
      "text/plain": [
       "Parsing nodes:   0%|          | 0/3000 [00:00<?, ?it/s]"
      ]
     },
     "metadata": {},
     "output_type": "display_data"
    },
    {
     "name": "stderr",
     "output_type": "stream",
     "text": [
      "/home/carlosjosuna/.local/share/virtualenvs/wine_parings-Y4sTaGQc/lib/python3.8/site-packages/llama_index/core/evaluation/dataset_generation.py:212: DeprecationWarning: Call to deprecated class DatasetGenerator. (Deprecated in favor of `RagDatasetGenerator` which should be used instead.)\n",
      "  return cls(\n",
      " 38%|███▊      | 49/130 [00:12<00:15,  5.20it/s]Retrying llama_index.llms.openai.base.OpenAI._achat in 0.646428048293021 seconds as it raised RateLimitError: Error code: 429 - {'error': {'message': 'Rate limit reached for gpt-3.5-turbo-0125 in organization org-rSW8VTGvcLlOXkwlKwR4NiVf on tokens per min (TPM): Limit 60000, Used 57796, Requested 2365. Please try again in 161ms. Visit https://platform.openai.com/account/rate-limits to learn more.', 'type': 'tokens', 'param': None, 'code': 'rate_limit_exceeded'}}.\n",
      "Retrying llama_index.llms.openai.base.OpenAI._achat in 0.5547895815040618 seconds as it raised RateLimitError: Error code: 429 - {'error': {'message': 'Rate limit reached for gpt-3.5-turbo-0125 in organization org-rSW8VTGvcLlOXkwlKwR4NiVf on tokens per min (TPM): Limit 60000, Used 57720, Requested 2390. Please try again in 110ms. Visit https://platform.openai.com/account/rate-limits to learn more.', 'type': 'tokens', 'param': None, 'code': 'rate_limit_exceeded'}}.\n",
      "Retrying llama_index.llms.openai.base.OpenAI._achat in 0.4464770971905473 seconds as it raised RateLimitError: Error code: 429 - {'error': {'message': 'Rate limit reached for gpt-3.5-turbo-0125 in organization org-rSW8VTGvcLlOXkwlKwR4NiVf on tokens per min (TPM): Limit 60000, Used 57739, Requested 2413. Please try again in 152ms. Visit https://platform.openai.com/account/rate-limits to learn more.', 'type': 'tokens', 'param': None, 'code': 'rate_limit_exceeded'}}.\n",
      "Retrying llama_index.llms.openai.base.OpenAI._achat in 0.7368053445160905 seconds as it raised RateLimitError: Error code: 429 - {'error': {'message': 'Rate limit reached for gpt-3.5-turbo-0125 in organization org-rSW8VTGvcLlOXkwlKwR4NiVf on tokens per min (TPM): Limit 60000, Used 59941, Requested 2520. Please try again in 2.461s. Visit https://platform.openai.com/account/rate-limits to learn more.', 'type': 'tokens', 'param': None, 'code': 'rate_limit_exceeded'}}.\n",
      " 41%|████      | 53/130 [00:13<00:15,  4.89it/s]Retrying llama_index.llms.openai.base.OpenAI._achat in 0.1173221998093148 seconds as it raised RateLimitError: Error code: 429 - {'error': {'message': 'Rate limit reached for gpt-3.5-turbo-0125 in organization org-rSW8VTGvcLlOXkwlKwR4NiVf on tokens per min (TPM): Limit 60000, Used 58477, Requested 2354. Please try again in 831ms. Visit https://platform.openai.com/account/rate-limits to learn more.', 'type': 'tokens', 'param': None, 'code': 'rate_limit_exceeded'}}.\n",
      "Retrying llama_index.llms.openai.base.OpenAI._achat in 0.718735145670571 seconds as it raised RateLimitError: Error code: 429 - {'error': {'message': 'Rate limit reached for gpt-3.5-turbo-0125 in organization org-rSW8VTGvcLlOXkwlKwR4NiVf on tokens per min (TPM): Limit 60000, Used 58332, Requested 2353. Please try again in 685ms. Visit https://platform.openai.com/account/rate-limits to learn more.', 'type': 'tokens', 'param': None, 'code': 'rate_limit_exceeded'}}.\n",
      "Retrying llama_index.llms.openai.base.OpenAI._achat in 0.9757876242853177 seconds as it raised RateLimitError: Error code: 429 - {'error': {'message': 'Rate limit reached for gpt-3.5-turbo-0125 in organization org-rSW8VTGvcLlOXkwlKwR4NiVf on tokens per min (TPM): Limit 60000, Used 58329, Requested 2336. Please try again in 665ms. Visit https://platform.openai.com/account/rate-limits to learn more.', 'type': 'tokens', 'param': None, 'code': 'rate_limit_exceeded'}}.\n",
      "Retrying llama_index.llms.openai.base.OpenAI._achat in 0.33971021037468285 seconds as it raised RateLimitError: Error code: 429 - {'error': {'message': 'Rate limit reached for gpt-3.5-turbo-0125 in organization org-rSW8VTGvcLlOXkwlKwR4NiVf on tokens per min (TPM): Limit 60000, Used 58319, Requested 2365. Please try again in 684ms. Visit https://platform.openai.com/account/rate-limits to learn more.', 'type': 'tokens', 'param': None, 'code': 'rate_limit_exceeded'}}.\n",
      "Retrying llama_index.llms.openai.base.OpenAI._achat in 0.07196996823686053 seconds as it raised RateLimitError: Error code: 429 - {'error': {'message': 'Rate limit reached for gpt-3.5-turbo-0125 in organization org-rSW8VTGvcLlOXkwlKwR4NiVf on tokens per min (TPM): Limit 60000, Used 58296, Requested 2399. Please try again in 695ms. Visit https://platform.openai.com/account/rate-limits to learn more.', 'type': 'tokens', 'param': None, 'code': 'rate_limit_exceeded'}}.\n",
      "Retrying llama_index.llms.openai.base.OpenAI._achat in 0.10548161763581254 seconds as it raised RateLimitError: Error code: 429 - {'error': {'message': 'Rate limit reached for gpt-3.5-turbo-0125 in organization org-rSW8VTGvcLlOXkwlKwR4NiVf on tokens per min (TPM): Limit 60000, Used 58294, Requested 2365. Please try again in 659ms. Visit https://platform.openai.com/account/rate-limits to learn more.', 'type': 'tokens', 'param': None, 'code': 'rate_limit_exceeded'}}.\n",
      "Retrying llama_index.llms.openai.base.OpenAI._achat in 0.2425370026817436 seconds as it raised RateLimitError: Error code: 429 - {'error': {'message': 'Rate limit reached for gpt-3.5-turbo-0125 in organization org-rSW8VTGvcLlOXkwlKwR4NiVf on tokens per min (TPM): Limit 60000, Used 58276, Requested 2452. Please try again in 728ms. Visit https://platform.openai.com/account/rate-limits to learn more.', 'type': 'tokens', 'param': None, 'code': 'rate_limit_exceeded'}}.\n",
      " 43%|████▎     | 56/130 [00:13<00:12,  5.95it/s]Retrying llama_index.llms.openai.base.OpenAI._achat in 0.3811591590596094 seconds as it raised RateLimitError: Error code: 429 - {'error': {'message': 'Rate limit reached for gpt-3.5-turbo-0125 in organization org-rSW8VTGvcLlOXkwlKwR4NiVf on tokens per min (TPM): Limit 60000, Used 58819, Requested 2459. Please try again in 1.278s. Visit https://platform.openai.com/account/rate-limits to learn more.', 'type': 'tokens', 'param': None, 'code': 'rate_limit_exceeded'}}.\n",
      "Retrying llama_index.llms.openai.base.OpenAI._achat in 0.8111905519796464 seconds as it raised RateLimitError: Error code: 429 - {'error': {'message': 'Rate limit reached for gpt-3.5-turbo-0125 in organization org-rSW8VTGvcLlOXkwlKwR4NiVf on tokens per min (TPM): Limit 60000, Used 58790, Requested 2452. Please try again in 1.242s. Visit https://platform.openai.com/account/rate-limits to learn more.', 'type': 'tokens', 'param': None, 'code': 'rate_limit_exceeded'}}.\n",
      "Retrying llama_index.llms.openai.base.OpenAI._achat in 0.6103886337867211 seconds as it raised RateLimitError: Error code: 429 - {'error': {'message': 'Rate limit reached for gpt-3.5-turbo-0125 in organization org-rSW8VTGvcLlOXkwlKwR4NiVf on tokens per min (TPM): Limit 60000, Used 58747, Requested 2412. Please try again in 1.159s. Visit https://platform.openai.com/account/rate-limits to learn more.', 'type': 'tokens', 'param': None, 'code': 'rate_limit_exceeded'}}.\n",
      "Retrying llama_index.llms.openai.base.OpenAI._achat in 0.7165823711735312 seconds as it raised RateLimitError: Error code: 429 - {'error': {'message': 'Rate limit reached for gpt-3.5-turbo-0125 in organization org-rSW8VTGvcLlOXkwlKwR4NiVf on tokens per min (TPM): Limit 60000, Used 58704, Requested 2467. Please try again in 1.171s. Visit https://platform.openai.com/account/rate-limits to learn more.', 'type': 'tokens', 'param': None, 'code': 'rate_limit_exceeded'}}.\n",
      "Retrying llama_index.llms.openai.base.OpenAI._achat in 0.5109847151961122 seconds as it raised RateLimitError: Error code: 429 - {'error': {'message': 'Rate limit reached for gpt-3.5-turbo-0125 in organization org-rSW8VTGvcLlOXkwlKwR4NiVf on tokens per min (TPM): Limit 60000, Used 58699, Requested 2455. Please try again in 1.154s. Visit https://platform.openai.com/account/rate-limits to learn more.', 'type': 'tokens', 'param': None, 'code': 'rate_limit_exceeded'}}.\n",
      "Retrying llama_index.llms.openai.base.OpenAI._achat in 0.6403152072011105 seconds as it raised RateLimitError: Error code: 429 - {'error': {'message': 'Rate limit reached for gpt-3.5-turbo-0125 in organization org-rSW8VTGvcLlOXkwlKwR4NiVf on tokens per min (TPM): Limit 60000, Used 58656, Requested 2412. Please try again in 1.068s. Visit https://platform.openai.com/account/rate-limits to learn more.', 'type': 'tokens', 'param': None, 'code': 'rate_limit_exceeded'}}.\n",
      "Retrying llama_index.llms.openai.base.OpenAI._achat in 0.32229083309026985 seconds as it raised RateLimitError: Error code: 429 - {'error': {'message': 'Rate limit reached for gpt-3.5-turbo-0125 in organization org-rSW8VTGvcLlOXkwlKwR4NiVf on tokens per min (TPM): Limit 60000, Used 58583, Requested 2442. Please try again in 1.025s. Visit https://platform.openai.com/account/rate-limits to learn more.', 'type': 'tokens', 'param': None, 'code': 'rate_limit_exceeded'}}.\n",
      "Retrying llama_index.llms.openai.base.OpenAI._achat in 0.10062289960614823 seconds as it raised RateLimitError: Error code: 429 - {'error': {'message': 'Rate limit reached for gpt-3.5-turbo-0125 in organization org-rSW8VTGvcLlOXkwlKwR4NiVf on tokens per min (TPM): Limit 60000, Used 58582, Requested 2393. Please try again in 975ms. Visit https://platform.openai.com/account/rate-limits to learn more.', 'type': 'tokens', 'param': None, 'code': 'rate_limit_exceeded'}}.\n",
      "Retrying llama_index.llms.openai.base.OpenAI._achat in 0.5642233458560433 seconds as it raised RateLimitError: Error code: 429 - {'error': {'message': 'Rate limit reached for gpt-3.5-turbo-0125 in organization org-rSW8VTGvcLlOXkwlKwR4NiVf on tokens per min (TPM): Limit 60000, Used 58566, Requested 2445. Please try again in 1.011s. Visit https://platform.openai.com/account/rate-limits to learn more.', 'type': 'tokens', 'param': None, 'code': 'rate_limit_exceeded'}}.\n",
      "Retrying llama_index.llms.openai.base.OpenAI._achat in 0.8112517938134703 seconds as it raised RateLimitError: Error code: 429 - {'error': {'message': 'Rate limit reached for gpt-3.5-turbo-0125 in organization org-rSW8VTGvcLlOXkwlKwR4NiVf on tokens per min (TPM): Limit 60000, Used 58533, Requested 2483. Please try again in 1.016s. Visit https://platform.openai.com/account/rate-limits to learn more.', 'type': 'tokens', 'param': None, 'code': 'rate_limit_exceeded'}}.\n",
      "Retrying llama_index.llms.openai.base.OpenAI._achat in 0.3431012838703379 seconds as it raised RateLimitError: Error code: 429 - {'error': {'message': 'Rate limit reached for gpt-3.5-turbo-0125 in organization org-rSW8VTGvcLlOXkwlKwR4NiVf on tokens per min (TPM): Limit 60000, Used 58495, Requested 2430. Please try again in 925ms. Visit https://platform.openai.com/account/rate-limits to learn more.', 'type': 'tokens', 'param': None, 'code': 'rate_limit_exceeded'}}.\n",
      "Retrying llama_index.llms.openai.base.OpenAI._achat in 0.04859421401000974 seconds as it raised RateLimitError: Error code: 429 - {'error': {'message': 'Rate limit reached for gpt-3.5-turbo-0125 in organization org-rSW8VTGvcLlOXkwlKwR4NiVf on tokens per min (TPM): Limit 60000, Used 58475, Requested 2469. Please try again in 943ms. Visit https://platform.openai.com/account/rate-limits to learn more.', 'type': 'tokens', 'param': None, 'code': 'rate_limit_exceeded'}}.\n",
      " 44%|████▍     | 57/130 [00:14<00:14,  5.04it/s]Retrying llama_index.llms.openai.base.OpenAI._achat in 0.5539234207339666 seconds as it raised RateLimitError: Error code: 429 - {'error': {'message': 'Rate limit reached for gpt-3.5-turbo-0125 in organization org-rSW8VTGvcLlOXkwlKwR4NiVf on tokens per min (TPM): Limit 60000, Used 59668, Requested 2470. Please try again in 2.138s. Visit https://platform.openai.com/account/rate-limits to learn more.', 'type': 'tokens', 'param': None, 'code': 'rate_limit_exceeded'}}.\n",
      " 45%|████▌     | 59/130 [00:14<00:11,  6.39it/s]Retrying llama_index.llms.openai.base.OpenAI._achat in 0.48251498391232683 seconds as it raised RateLimitError: Error code: 429 - {'error': {'message': 'Rate limit reached for gpt-3.5-turbo-0125 in organization org-rSW8VTGvcLlOXkwlKwR4NiVf on tokens per min (TPM): Limit 60000, Used 57842, Requested 2500. Please try again in 342ms. Visit https://platform.openai.com/account/rate-limits to learn more.', 'type': 'tokens', 'param': None, 'code': 'rate_limit_exceeded'}}.\n",
      "Retrying llama_index.llms.openai.base.OpenAI._achat in 0.5927985826628592 seconds as it raised RateLimitError: Error code: 429 - {'error': {'message': 'Rate limit reached for gpt-3.5-turbo-0125 in organization org-rSW8VTGvcLlOXkwlKwR4NiVf on tokens per min (TPM): Limit 60000, Used 57776, Requested 2511. Please try again in 287ms. Visit https://platform.openai.com/account/rate-limits to learn more.', 'type': 'tokens', 'param': None, 'code': 'rate_limit_exceeded'}}.\n",
      "Retrying llama_index.llms.openai.base.OpenAI._achat in 0.6323524327466454 seconds as it raised RateLimitError: Error code: 429 - {'error': {'message': 'Rate limit reached for gpt-3.5-turbo-0125 in organization org-rSW8VTGvcLlOXkwlKwR4NiVf on tokens per min (TPM): Limit 60000, Used 57764, Requested 2437. Please try again in 201ms. Visit https://platform.openai.com/account/rate-limits to learn more.', 'type': 'tokens', 'param': None, 'code': 'rate_limit_exceeded'}}.\n",
      "Retrying llama_index.llms.openai.base.OpenAI._achat in 0.022895031452652592 seconds as it raised RateLimitError: Error code: 429 - {'error': {'message': 'Rate limit reached for gpt-3.5-turbo-0125 in organization org-rSW8VTGvcLlOXkwlKwR4NiVf on tokens per min (TPM): Limit 60000, Used 57703, Requested 2460. Please try again in 163ms. Visit https://platform.openai.com/account/rate-limits to learn more.', 'type': 'tokens', 'param': None, 'code': 'rate_limit_exceeded'}}.\n",
      "Retrying llama_index.llms.openai.base.OpenAI._achat in 0.44889268098166313 seconds as it raised RateLimitError: Error code: 429 - {'error': {'message': 'Rate limit reached for gpt-3.5-turbo-0125 in organization org-rSW8VTGvcLlOXkwlKwR4NiVf on tokens per min (TPM): Limit 60000, Used 57681, Requested 2502. Please try again in 183ms. Visit https://platform.openai.com/account/rate-limits to learn more.', 'type': 'tokens', 'param': None, 'code': 'rate_limit_exceeded'}}.\n",
      "Retrying llama_index.llms.openai.base.OpenAI._achat in 0.9609471032854378 seconds as it raised RateLimitError: Error code: 429 - {'error': {'message': 'Rate limit reached for gpt-3.5-turbo-0125 in organization org-rSW8VTGvcLlOXkwlKwR4NiVf on tokens per min (TPM): Limit 60000, Used 57644, Requested 2490. Please try again in 134ms. Visit https://platform.openai.com/account/rate-limits to learn more.', 'type': 'tokens', 'param': None, 'code': 'rate_limit_exceeded'}}.\n",
      "Retrying llama_index.llms.openai.base.OpenAI._achat in 0.9278008090740495 seconds as it raised RateLimitError: Error code: 429 - {'error': {'message': 'Rate limit reached for gpt-3.5-turbo-0125 in organization org-rSW8VTGvcLlOXkwlKwR4NiVf on tokens per min (TPM): Limit 60000, Used 57521, Requested 2486. Please try again in 7ms. Visit https://platform.openai.com/account/rate-limits to learn more.', 'type': 'tokens', 'param': None, 'code': 'rate_limit_exceeded'}}.\n",
      "Retrying llama_index.llms.openai.base.OpenAI._achat in 0.1467255339447323 seconds as it raised RateLimitError: Error code: 429 - {'error': {'message': 'Rate limit reached for gpt-3.5-turbo-0125 in organization org-rSW8VTGvcLlOXkwlKwR4NiVf on tokens per min (TPM): Limit 60000, Used 57535, Requested 2515. Please try again in 50ms. Visit https://platform.openai.com/account/rate-limits to learn more.', 'type': 'tokens', 'param': None, 'code': 'rate_limit_exceeded'}}.\n",
      "Retrying llama_index.llms.openai.base.OpenAI._achat in 0.3840586486352544 seconds as it raised RateLimitError: Error code: 429 - {'error': {'message': 'Rate limit reached for gpt-3.5-turbo-0125 in organization org-rSW8VTGvcLlOXkwlKwR4NiVf on tokens per min (TPM): Limit 60000, Used 59855, Requested 2521. Please try again in 2.376s. Visit https://platform.openai.com/account/rate-limits to learn more.', 'type': 'tokens', 'param': None, 'code': 'rate_limit_exceeded'}}.\n",
      " 46%|████▌     | 60/130 [00:15<00:20,  3.48it/s]Retrying llama_index.llms.openai.base.OpenAI._achat in 0.478069575767888 seconds as it raised RateLimitError: Error code: 429 - {'error': {'message': 'Rate limit reached for gpt-3.5-turbo-0125 in organization org-rSW8VTGvcLlOXkwlKwR4NiVf on tokens per min (TPM): Limit 60000, Used 57848, Requested 2364. Please try again in 212ms. Visit https://platform.openai.com/account/rate-limits to learn more.', 'type': 'tokens', 'param': None, 'code': 'rate_limit_exceeded'}}.\n",
      "Retrying llama_index.llms.openai.base.OpenAI._achat in 0.9745329641262013 seconds as it raised RateLimitError: Error code: 429 - {'error': {'message': 'Rate limit reached for gpt-3.5-turbo-0125 in organization org-rSW8VTGvcLlOXkwlKwR4NiVf on tokens per min (TPM): Limit 60000, Used 58353, Requested 2458. Please try again in 811ms. Visit https://platform.openai.com/account/rate-limits to learn more.', 'type': 'tokens', 'param': None, 'code': 'rate_limit_exceeded'}}.\n",
      "Retrying llama_index.llms.openai.base.OpenAI._achat in 0.8061211273217962 seconds as it raised RateLimitError: Error code: 429 - {'error': {'message': 'Rate limit reached for gpt-3.5-turbo-0125 in organization org-rSW8VTGvcLlOXkwlKwR4NiVf on tokens per min (TPM): Limit 60000, Used 58348, Requested 2464. Please try again in 812ms. Visit https://platform.openai.com/account/rate-limits to learn more.', 'type': 'tokens', 'param': None, 'code': 'rate_limit_exceeded'}}.\n",
      "Retrying llama_index.llms.openai.base.OpenAI._achat in 0.04729012304115254 seconds as it raised RateLimitError: Error code: 429 - {'error': {'message': 'Rate limit reached for gpt-3.5-turbo-0125 in organization org-rSW8VTGvcLlOXkwlKwR4NiVf on tokens per min (TPM): Limit 60000, Used 58335, Requested 2435. Please try again in 770ms. Visit https://platform.openai.com/account/rate-limits to learn more.', 'type': 'tokens', 'param': None, 'code': 'rate_limit_exceeded'}}.\n",
      "Retrying llama_index.llms.openai.base.OpenAI._achat in 0.7630906959145579 seconds as it raised RateLimitError: Error code: 429 - {'error': {'message': 'Rate limit reached for gpt-3.5-turbo-0125 in organization org-rSW8VTGvcLlOXkwlKwR4NiVf on tokens per min (TPM): Limit 60000, Used 58260, Requested 2468. Please try again in 728ms. Visit https://platform.openai.com/account/rate-limits to learn more.', 'type': 'tokens', 'param': None, 'code': 'rate_limit_exceeded'}}.\n",
      "Retrying llama_index.llms.openai.base.OpenAI._achat in 0.060138393947968716 seconds as it raised RateLimitError: Error code: 429 - {'error': {'message': 'Rate limit reached for gpt-3.5-turbo-0125 in organization org-rSW8VTGvcLlOXkwlKwR4NiVf on tokens per min (TPM): Limit 60000, Used 58247, Requested 2454. Please try again in 701ms. Visit https://platform.openai.com/account/rate-limits to learn more.', 'type': 'tokens', 'param': None, 'code': 'rate_limit_exceeded'}}.\n",
      "Retrying llama_index.llms.openai.base.OpenAI._achat in 0.07031705306771963 seconds as it raised RateLimitError: Error code: 429 - {'error': {'message': 'Rate limit reached for gpt-3.5-turbo-0125 in organization org-rSW8VTGvcLlOXkwlKwR4NiVf on tokens per min (TPM): Limit 60000, Used 58209, Requested 2501. Please try again in 710ms. Visit https://platform.openai.com/account/rate-limits to learn more.', 'type': 'tokens', 'param': None, 'code': 'rate_limit_exceeded'}}.\n",
      "Retrying llama_index.llms.openai.base.OpenAI._achat in 0.28192892795564073 seconds as it raised RateLimitError: Error code: 429 - {'error': {'message': 'Rate limit reached for gpt-3.5-turbo-0125 in organization org-rSW8VTGvcLlOXkwlKwR4NiVf on tokens per min (TPM): Limit 60000, Used 58177, Requested 2486. Please try again in 663ms. Visit https://platform.openai.com/account/rate-limits to learn more.', 'type': 'tokens', 'param': None, 'code': 'rate_limit_exceeded'}}.\n",
      "Retrying llama_index.llms.openai.base.OpenAI._achat in 0.7411822138685955 seconds as it raised RateLimitError: Error code: 429 - {'error': {'message': 'Rate limit reached for gpt-3.5-turbo-0125 in organization org-rSW8VTGvcLlOXkwlKwR4NiVf on tokens per min (TPM): Limit 60000, Used 58150, Requested 2483. Please try again in 633ms. Visit https://platform.openai.com/account/rate-limits to learn more.', 'type': 'tokens', 'param': None, 'code': 'rate_limit_exceeded'}}.\n",
      "Retrying llama_index.llms.openai.base.OpenAI._achat in 0.8338618188012853 seconds as it raised RateLimitError: Error code: 429 - {'error': {'message': 'Rate limit reached for gpt-3.5-turbo-0125 in organization org-rSW8VTGvcLlOXkwlKwR4NiVf on tokens per min (TPM): Limit 60000, Used 58148, Requested 2504. Please try again in 652ms. Visit https://platform.openai.com/account/rate-limits to learn more.', 'type': 'tokens', 'param': None, 'code': 'rate_limit_exceeded'}}.\n",
      "Retrying llama_index.llms.openai.base.OpenAI._achat in 0.19751832570883143 seconds as it raised RateLimitError: Error code: 429 - {'error': {'message': 'Rate limit reached for gpt-3.5-turbo-0125 in organization org-rSW8VTGvcLlOXkwlKwR4NiVf on tokens per min (TPM): Limit 60000, Used 58090, Requested 2510. Please try again in 600ms. Visit https://platform.openai.com/account/rate-limits to learn more.', 'type': 'tokens', 'param': None, 'code': 'rate_limit_exceeded'}}.\n",
      "Retrying llama_index.llms.openai.base.OpenAI._achat in 0.8766295931657568 seconds as it raised RateLimitError: Error code: 429 - {'error': {'message': 'Rate limit reached for gpt-3.5-turbo-0125 in organization org-rSW8VTGvcLlOXkwlKwR4NiVf on tokens per min (TPM): Limit 60000, Used 58108, Requested 2482. Please try again in 590ms. Visit https://platform.openai.com/account/rate-limits to learn more.', 'type': 'tokens', 'param': None, 'code': 'rate_limit_exceeded'}}.\n",
      "Retrying llama_index.llms.openai.base.OpenAI._achat in 0.08738418795391745 seconds as it raised RateLimitError: Error code: 429 - {'error': {'message': 'Rate limit reached for gpt-3.5-turbo-0125 in organization org-rSW8VTGvcLlOXkwlKwR4NiVf on tokens per min (TPM): Limit 60000, Used 58010, Requested 2492. Please try again in 502ms. Visit https://platform.openai.com/account/rate-limits to learn more.', 'type': 'tokens', 'param': None, 'code': 'rate_limit_exceeded'}}.\n",
      " 48%|████▊     | 62/130 [00:16<00:23,  2.91it/s]Retrying llama_index.llms.openai.base.OpenAI._achat in 0.484497081969272 seconds as it raised RateLimitError: Error code: 429 - {'error': {'message': 'Rate limit reached for gpt-3.5-turbo-0125 in organization org-rSW8VTGvcLlOXkwlKwR4NiVf on tokens per min (TPM): Limit 60000, Used 57599, Requested 2469. Please try again in 68ms. Visit https://platform.openai.com/account/rate-limits to learn more.', 'type': 'tokens', 'param': None, 'code': 'rate_limit_exceeded'}}.\n",
      " 50%|█████     | 65/130 [00:16<00:16,  3.92it/s]Retrying llama_index.llms.openai.base.OpenAI._achat in 0.029593624551330855 seconds as it raised RateLimitError: Error code: 429 - {'error': {'message': 'Rate limit reached for gpt-3.5-turbo-0125 in organization org-rSW8VTGvcLlOXkwlKwR4NiVf on tokens per min (TPM): Limit 60000, Used 58875, Requested 2389. Please try again in 1.264s. Visit https://platform.openai.com/account/rate-limits to learn more.', 'type': 'tokens', 'param': None, 'code': 'rate_limit_exceeded'}}.\n",
      "Retrying llama_index.llms.openai.base.OpenAI._achat in 0.5028783311930572 seconds as it raised RateLimitError: Error code: 429 - {'error': {'message': 'Rate limit reached for gpt-3.5-turbo-0125 in organization org-rSW8VTGvcLlOXkwlKwR4NiVf on tokens per min (TPM): Limit 60000, Used 58857, Requested 2446. Please try again in 1.303s. Visit https://platform.openai.com/account/rate-limits to learn more.', 'type': 'tokens', 'param': None, 'code': 'rate_limit_exceeded'}}.\n",
      "Retrying llama_index.llms.openai.base.OpenAI._achat in 0.6509461985758287 seconds as it raised RateLimitError: Error code: 429 - {'error': {'message': 'Rate limit reached for gpt-3.5-turbo-0125 in organization org-rSW8VTGvcLlOXkwlKwR4NiVf on tokens per min (TPM): Limit 60000, Used 58797, Requested 2456. Please try again in 1.253s. Visit https://platform.openai.com/account/rate-limits to learn more.', 'type': 'tokens', 'param': None, 'code': 'rate_limit_exceeded'}}.\n",
      "Retrying llama_index.llms.openai.base.OpenAI._achat in 0.11247020117560069 seconds as it raised RateLimitError: Error code: 429 - {'error': {'message': 'Rate limit reached for gpt-3.5-turbo-0125 in organization org-rSW8VTGvcLlOXkwlKwR4NiVf on tokens per min (TPM): Limit 60000, Used 58777, Requested 2457. Please try again in 1.234s. Visit https://platform.openai.com/account/rate-limits to learn more.', 'type': 'tokens', 'param': None, 'code': 'rate_limit_exceeded'}}.\n",
      " 52%|█████▏    | 68/130 [00:17<00:11,  5.44it/s]Retrying llama_index.llms.openai.base.OpenAI._achat in 0.6999991345474403 seconds as it raised RateLimitError: Error code: 429 - {'error': {'message': 'Rate limit reached for gpt-3.5-turbo-0125 in organization org-rSW8VTGvcLlOXkwlKwR4NiVf on tokens per min (TPM): Limit 60000, Used 58160, Requested 2447. Please try again in 607ms. Visit https://platform.openai.com/account/rate-limits to learn more.', 'type': 'tokens', 'param': None, 'code': 'rate_limit_exceeded'}}.\n",
      " 54%|█████▍    | 70/130 [00:17<00:12,  4.83it/s]Retrying llama_index.llms.openai.base.OpenAI._achat in 0.9054072994874425 seconds as it raised RateLimitError: Error code: 429 - {'error': {'message': 'Rate limit reached for gpt-3.5-turbo-0125 in organization org-rSW8VTGvcLlOXkwlKwR4NiVf on tokens per min (TPM): Limit 60000, Used 59499, Requested 2469. Please try again in 1.968s. Visit https://platform.openai.com/account/rate-limits to learn more.', 'type': 'tokens', 'param': None, 'code': 'rate_limit_exceeded'}}.\n",
      " 56%|█████▌    | 73/130 [00:18<00:12,  4.69it/s]Retrying llama_index.llms.openai.base.OpenAI._achat in 0.008259913201789093 seconds as it raised RateLimitError: Error code: 429 - {'error': {'message': 'Rate limit reached for gpt-3.5-turbo-0125 in organization org-rSW8VTGvcLlOXkwlKwR4NiVf on tokens per min (TPM): Limit 60000, Used 57738, Requested 2506. Please try again in 243ms. Visit https://platform.openai.com/account/rate-limits to learn more.', 'type': 'tokens', 'param': None, 'code': 'rate_limit_exceeded'}}.\n",
      " 61%|██████    | 79/130 [00:19<00:11,  4.32it/s]Retrying llama_index.llms.openai.base.OpenAI._achat in 0.8300535156224691 seconds as it raised RateLimitError: Error code: 429 - {'error': {'message': 'Rate limit reached for gpt-3.5-turbo-0125 in organization org-rSW8VTGvcLlOXkwlKwR4NiVf on tokens per min (TPM): Limit 60000, Used 59905, Requested 2365. Please try again in 2.27s. Visit https://platform.openai.com/account/rate-limits to learn more.', 'type': 'tokens', 'param': None, 'code': 'rate_limit_exceeded'}}.\n",
      " 62%|██████▏   | 81/130 [00:20<00:10,  4.84it/s]Retrying llama_index.llms.openai.base.OpenAI._achat in 1.7568913309053764 seconds as it raised RateLimitError: Error code: 429 - {'error': {'message': 'Rate limit reached for gpt-3.5-turbo-0125 in organization org-rSW8VTGvcLlOXkwlKwR4NiVf on tokens per min (TPM): Limit 60000, Used 57982, Requested 2399. Please try again in 381ms. Visit https://platform.openai.com/account/rate-limits to learn more.', 'type': 'tokens', 'param': None, 'code': 'rate_limit_exceeded'}}.\n",
      "Retrying llama_index.llms.openai.base.OpenAI._achat in 1.3503166914547422 seconds as it raised RateLimitError: Error code: 429 - {'error': {'message': 'Rate limit reached for gpt-3.5-turbo-0125 in organization org-rSW8VTGvcLlOXkwlKwR4NiVf on tokens per min (TPM): Limit 60000, Used 57987, Requested 2365. Please try again in 352ms. Visit https://platform.openai.com/account/rate-limits to learn more.', 'type': 'tokens', 'param': None, 'code': 'rate_limit_exceeded'}}.\n",
      "Retrying llama_index.llms.openai.base.OpenAI._achat in 0.41738251335210075 seconds as it raised RateLimitError: Error code: 429 - {'error': {'message': 'Rate limit reached for gpt-3.5-turbo-0125 in organization org-rSW8VTGvcLlOXkwlKwR4NiVf on tokens per min (TPM): Limit 60000, Used 57972, Requested 2430. Please try again in 402ms. Visit https://platform.openai.com/account/rate-limits to learn more.', 'type': 'tokens', 'param': None, 'code': 'rate_limit_exceeded'}}.\n",
      " 63%|██████▎   | 82/130 [00:20<00:16,  2.95it/s]Retrying llama_index.llms.openai.base.OpenAI._achat in 1.5947788427771687 seconds as it raised RateLimitError: Error code: 429 - {'error': {'message': 'Rate limit reached for gpt-3.5-turbo-0125 in organization org-rSW8VTGvcLlOXkwlKwR4NiVf on tokens per min (TPM): Limit 60000, Used 57983, Requested 2412. Please try again in 395ms. Visit https://platform.openai.com/account/rate-limits to learn more.', 'type': 'tokens', 'param': None, 'code': 'rate_limit_exceeded'}}.\n",
      "Retrying llama_index.llms.openai.base.OpenAI._achat in 0.8798947643052173 seconds as it raised RateLimitError: Error code: 429 - {'error': {'message': 'Rate limit reached for gpt-3.5-turbo-0125 in organization org-rSW8VTGvcLlOXkwlKwR4NiVf on tokens per min (TPM): Limit 60000, Used 57912, Requested 2459. Please try again in 371ms. Visit https://platform.openai.com/account/rate-limits to learn more.', 'type': 'tokens', 'param': None, 'code': 'rate_limit_exceeded'}}.\n",
      " 64%|██████▍   | 83/130 [00:21<00:18,  2.54it/s]Retrying llama_index.llms.openai.base.OpenAI._achat in 0.1077920192157189 seconds as it raised RateLimitError: Error code: 429 - {'error': {'message': 'Rate limit reached for gpt-3.5-turbo-0125 in organization org-rSW8VTGvcLlOXkwlKwR4NiVf on tokens per min (TPM): Limit 60000, Used 58150, Requested 2455. Please try again in 605ms. Visit https://platform.openai.com/account/rate-limits to learn more.', 'type': 'tokens', 'param': None, 'code': 'rate_limit_exceeded'}}.\n",
      "Retrying llama_index.llms.openai.base.OpenAI._achat in 1.363282651682815 seconds as it raised RateLimitError: Error code: 429 - {'error': {'message': 'Rate limit reached for gpt-3.5-turbo-0125 in organization org-rSW8VTGvcLlOXkwlKwR4NiVf on tokens per min (TPM): Limit 60000, Used 57842, Requested 2390. Please try again in 232ms. Visit https://platform.openai.com/account/rate-limits to learn more.', 'type': 'tokens', 'param': None, 'code': 'rate_limit_exceeded'}}.\n",
      " 65%|██████▍   | 84/130 [00:22<00:22,  2.07it/s]Retrying llama_index.llms.openai.base.OpenAI._achat in 0.9896457612566518 seconds as it raised RateLimitError: Error code: 429 - {'error': {'message': 'Rate limit reached for gpt-3.5-turbo-0125 in organization org-rSW8VTGvcLlOXkwlKwR4NiVf on tokens per min (TPM): Limit 60000, Used 58859, Requested 2452. Please try again in 1.311s. Visit https://platform.openai.com/account/rate-limits to learn more.', 'type': 'tokens', 'param': None, 'code': 'rate_limit_exceeded'}}.\n",
      "Retrying llama_index.llms.openai.base.OpenAI._achat in 1.7667219237884277 seconds as it raised RateLimitError: Error code: 429 - {'error': {'message': 'Rate limit reached for gpt-3.5-turbo-0125 in organization org-rSW8VTGvcLlOXkwlKwR4NiVf on tokens per min (TPM): Limit 60000, Used 58814, Requested 2454. Please try again in 1.268s. Visit https://platform.openai.com/account/rate-limits to learn more.', 'type': 'tokens', 'param': None, 'code': 'rate_limit_exceeded'}}.\n",
      "Retrying llama_index.llms.openai.base.OpenAI._achat in 1.9159530288968414 seconds as it raised RateLimitError: Error code: 429 - {'error': {'message': 'Rate limit reached for gpt-3.5-turbo-0125 in organization org-rSW8VTGvcLlOXkwlKwR4NiVf on tokens per min (TPM): Limit 60000, Used 58785, Requested 2413. Please try again in 1.198s. Visit https://platform.openai.com/account/rate-limits to learn more.', 'type': 'tokens', 'param': None, 'code': 'rate_limit_exceeded'}}.\n",
      "Retrying llama_index.llms.openai.base.OpenAI._achat in 0.22665476383512417 seconds as it raised RateLimitError: Error code: 429 - {'error': {'message': 'Rate limit reached for gpt-3.5-turbo-0125 in organization org-rSW8VTGvcLlOXkwlKwR4NiVf on tokens per min (TPM): Limit 60000, Used 58754, Requested 2467. Please try again in 1.221s. Visit https://platform.openai.com/account/rate-limits to learn more.', 'type': 'tokens', 'param': None, 'code': 'rate_limit_exceeded'}}.\n",
      "Retrying llama_index.llms.openai.base.OpenAI._achat in 0.02931604982937963 seconds as it raised RateLimitError: Error code: 429 - {'error': {'message': 'Rate limit reached for gpt-3.5-turbo-0125 in organization org-rSW8VTGvcLlOXkwlKwR4NiVf on tokens per min (TPM): Limit 60000, Used 58666, Requested 2515. Please try again in 1.181s. Visit https://platform.openai.com/account/rate-limits to learn more.', 'type': 'tokens', 'param': None, 'code': 'rate_limit_exceeded'}}.\n",
      "Retrying llama_index.llms.openai.base.OpenAI._achat in 0.46369925716434235 seconds as it raised RateLimitError: Error code: 429 - {'error': {'message': 'Rate limit reached for gpt-3.5-turbo-0125 in organization org-rSW8VTGvcLlOXkwlKwR4NiVf on tokens per min (TPM): Limit 60000, Used 58638, Requested 2500. Please try again in 1.138s. Visit https://platform.openai.com/account/rate-limits to learn more.', 'type': 'tokens', 'param': None, 'code': 'rate_limit_exceeded'}}.\n",
      " 66%|██████▌   | 86/130 [00:22<00:16,  2.65it/s]Retrying llama_index.llms.openai.base.OpenAI._achat in 0.1865142809614979 seconds as it raised RateLimitError: Error code: 429 - {'error': {'message': 'Rate limit reached for gpt-3.5-turbo-0125 in organization org-rSW8VTGvcLlOXkwlKwR4NiVf on tokens per min (TPM): Limit 60000, Used 59130, Requested 2445. Please try again in 1.575s. Visit https://platform.openai.com/account/rate-limits to learn more.', 'type': 'tokens', 'param': None, 'code': 'rate_limit_exceeded'}}.\n",
      " 67%|██████▋   | 87/130 [00:22<00:15,  2.86it/s]Retrying llama_index.llms.openai.base.OpenAI._achat in 1.342060563630334 seconds as it raised RateLimitError: Error code: 429 - {'error': {'message': 'Rate limit reached for gpt-3.5-turbo-0125 in organization org-rSW8VTGvcLlOXkwlKwR4NiVf on tokens per min (TPM): Limit 60000, Used 59459, Requested 2464. Please try again in 1.923s. Visit https://platform.openai.com/account/rate-limits to learn more.', 'type': 'tokens', 'param': None, 'code': 'rate_limit_exceeded'}}.\n",
      " 68%|██████▊   | 88/130 [00:23<00:13,  3.19it/s]Retrying llama_index.llms.openai.base.OpenAI._achat in 1.5283890093454748 seconds as it raised RateLimitError: Error code: 429 - {'error': {'message': 'Rate limit reached for gpt-3.5-turbo-0125 in organization org-rSW8VTGvcLlOXkwlKwR4NiVf on tokens per min (TPM): Limit 60000, Used 58106, Requested 2483. Please try again in 589ms. Visit https://platform.openai.com/account/rate-limits to learn more.', 'type': 'tokens', 'param': None, 'code': 'rate_limit_exceeded'}}.\n",
      "Retrying llama_index.llms.openai.base.OpenAI._achat in 1.69189600282855 seconds as it raised RateLimitError: Error code: 429 - {'error': {'message': 'Rate limit reached for gpt-3.5-turbo-0125 in organization org-rSW8VTGvcLlOXkwlKwR4NiVf on tokens per min (TPM): Limit 60000, Used 58032, Requested 2468. Please try again in 500ms. Visit https://platform.openai.com/account/rate-limits to learn more.', 'type': 'tokens', 'param': None, 'code': 'rate_limit_exceeded'}}.\n",
      "Retrying llama_index.llms.openai.base.OpenAI._achat in 0.5383600872157117 seconds as it raised RateLimitError: Error code: 429 - {'error': {'message': 'Rate limit reached for gpt-3.5-turbo-0125 in organization org-rSW8VTGvcLlOXkwlKwR4NiVf on tokens per min (TPM): Limit 60000, Used 58009, Requested 2506. Please try again in 515ms. Visit https://platform.openai.com/account/rate-limits to learn more.', 'type': 'tokens', 'param': None, 'code': 'rate_limit_exceeded'}}.\n",
      "Retrying llama_index.llms.openai.base.OpenAI._achat in 0.3212470058857999 seconds as it raised RateLimitError: Error code: 429 - {'error': {'message': 'Rate limit reached for gpt-3.5-turbo-0125 in organization org-rSW8VTGvcLlOXkwlKwR4NiVf on tokens per min (TPM): Limit 60000, Used 57980, Requested 2393. Please try again in 373ms. Visit https://platform.openai.com/account/rate-limits to learn more.', 'type': 'tokens', 'param': None, 'code': 'rate_limit_exceeded'}}.\n",
      " 69%|██████▉   | 90/130 [00:23<00:08,  4.65it/s]Retrying llama_index.llms.openai.base.OpenAI._achat in 1.5903401257072942 seconds as it raised RateLimitError: Error code: 429 - {'error': {'message': 'Rate limit reached for gpt-3.5-turbo-0125 in organization org-rSW8VTGvcLlOXkwlKwR4NiVf on tokens per min (TPM): Limit 60000, Used 59075, Requested 2483. Please try again in 1.558s. Visit https://platform.openai.com/account/rate-limits to learn more.', 'type': 'tokens', 'param': None, 'code': 'rate_limit_exceeded'}}.\n",
      "Retrying llama_index.llms.openai.base.OpenAI._achat in 1.9911615442210553 seconds as it raised RateLimitError: Error code: 429 - {'error': {'message': 'Rate limit reached for gpt-3.5-turbo-0125 in organization org-rSW8VTGvcLlOXkwlKwR4NiVf on tokens per min (TPM): Limit 60000, Used 59019, Requested 2521. Please try again in 1.54s. Visit https://platform.openai.com/account/rate-limits to learn more.', 'type': 'tokens', 'param': None, 'code': 'rate_limit_exceeded'}}.\n",
      "Retrying llama_index.llms.openai.base.OpenAI._achat in 0.9698497167776154 seconds as it raised RateLimitError: Error code: 429 - {'error': {'message': 'Rate limit reached for gpt-3.5-turbo-0125 in organization org-rSW8VTGvcLlOXkwlKwR4NiVf on tokens per min (TPM): Limit 60000, Used 58686, Requested 2456. Please try again in 1.142s. Visit https://platform.openai.com/account/rate-limits to learn more.', 'type': 'tokens', 'param': None, 'code': 'rate_limit_exceeded'}}.\n",
      "Retrying llama_index.llms.openai.base.OpenAI._achat in 1.448817972121981 seconds as it raised RateLimitError: Error code: 429 - {'error': {'message': 'Rate limit reached for gpt-3.5-turbo-0125 in organization org-rSW8VTGvcLlOXkwlKwR4NiVf on tokens per min (TPM): Limit 60000, Used 58630, Requested 2446. Please try again in 1.076s. Visit https://platform.openai.com/account/rate-limits to learn more.', 'type': 'tokens', 'param': None, 'code': 'rate_limit_exceeded'}}.\n",
      "Retrying llama_index.llms.openai.base.OpenAI._achat in 0.49032576156178287 seconds as it raised RateLimitError: Error code: 429 - {'error': {'message': 'Rate limit reached for gpt-3.5-turbo-0125 in organization org-rSW8VTGvcLlOXkwlKwR4NiVf on tokens per min (TPM): Limit 60000, Used 58507, Requested 2457. Please try again in 964ms. Visit https://platform.openai.com/account/rate-limits to learn more.', 'type': 'tokens', 'param': None, 'code': 'rate_limit_exceeded'}}.\n",
      "Retrying llama_index.llms.openai.base.OpenAI._achat in 0.8527403888400187 seconds as it raised RateLimitError: Error code: 429 - {'error': {'message': 'Rate limit reached for gpt-3.5-turbo-0125 in organization org-rSW8VTGvcLlOXkwlKwR4NiVf on tokens per min (TPM): Limit 60000, Used 58266, Requested 2482. Please try again in 748ms. Visit https://platform.openai.com/account/rate-limits to learn more.', 'type': 'tokens', 'param': None, 'code': 'rate_limit_exceeded'}}.\n",
      "Retrying llama_index.llms.openai.base.OpenAI._achat in 1.6368789517532965 seconds as it raised RateLimitError: Error code: 429 - {'error': {'message': 'Rate limit reached for gpt-3.5-turbo-0125 in organization org-rSW8VTGvcLlOXkwlKwR4NiVf on tokens per min (TPM): Limit 60000, Used 58242, Requested 2502. Please try again in 744ms. Visit https://platform.openai.com/account/rate-limits to learn more.', 'type': 'tokens', 'param': None, 'code': 'rate_limit_exceeded'}}.\n",
      "Retrying llama_index.llms.openai.base.OpenAI._achat in 0.6465103901444782 seconds as it raised RateLimitError: Error code: 429 - {'error': {'message': 'Rate limit reached for gpt-3.5-turbo-0125 in organization org-rSW8VTGvcLlOXkwlKwR4NiVf on tokens per min (TPM): Limit 60000, Used 58171, Requested 2469. Please try again in 640ms. Visit https://platform.openai.com/account/rate-limits to learn more.', 'type': 'tokens', 'param': None, 'code': 'rate_limit_exceeded'}}.\n",
      "Retrying llama_index.llms.openai.base.OpenAI._achat in 1.8496428608962079 seconds as it raised RateLimitError: Error code: 429 - {'error': {'message': 'Rate limit reached for gpt-3.5-turbo-0125 in organization org-rSW8VTGvcLlOXkwlKwR4NiVf on tokens per min (TPM): Limit 60000, Used 58083, Requested 2504. Please try again in 587ms. Visit https://platform.openai.com/account/rate-limits to learn more.', 'type': 'tokens', 'param': None, 'code': 'rate_limit_exceeded'}}.\n",
      " 74%|███████▍  | 96/130 [00:24<00:06,  4.94it/s]Retrying llama_index.llms.openai.base.OpenAI._achat in 2.7328341868283674 seconds as it raised RateLimitError: Error code: 429 - {'error': {'message': 'Rate limit reached for gpt-3.5-turbo-0125 in organization org-rSW8VTGvcLlOXkwlKwR4NiVf on tokens per min (TPM): Limit 60000, Used 57741, Requested 2430. Please try again in 171ms. Visit https://platform.openai.com/account/rate-limits to learn more.', 'type': 'tokens', 'param': None, 'code': 'rate_limit_exceeded'}}.\n",
      " 75%|███████▍  | 97/130 [00:25<00:07,  4.13it/s]Retrying llama_index.llms.openai.base.OpenAI._achat in 0.1918314702489572 seconds as it raised RateLimitError: Error code: 429 - {'error': {'message': 'Rate limit reached for gpt-3.5-turbo-0125 in organization org-rSW8VTGvcLlOXkwlKwR4NiVf on tokens per min (TPM): Limit 60000, Used 58124, Requested 2486. Please try again in 610ms. Visit https://platform.openai.com/account/rate-limits to learn more.', 'type': 'tokens', 'param': None, 'code': 'rate_limit_exceeded'}}.\n",
      "Retrying llama_index.llms.openai.base.OpenAI._achat in 0.6716992664386412 seconds as it raised RateLimitError: Error code: 429 - {'error': {'message': 'Rate limit reached for gpt-3.5-turbo-0125 in organization org-rSW8VTGvcLlOXkwlKwR4NiVf on tokens per min (TPM): Limit 60000, Used 58005, Requested 2486. Please try again in 491ms. Visit https://platform.openai.com/account/rate-limits to learn more.', 'type': 'tokens', 'param': None, 'code': 'rate_limit_exceeded'}}.\n",
      " 75%|███████▌  | 98/130 [00:25<00:09,  3.41it/s]Retrying llama_index.llms.openai.base.OpenAI._achat in 2.310253417084663 seconds as it raised RateLimitError: Error code: 429 - {'error': {'message': 'Rate limit reached for gpt-3.5-turbo-0125 in organization org-rSW8VTGvcLlOXkwlKwR4NiVf on tokens per min (TPM): Limit 60000, Used 58353, Requested 2455. Please try again in 808ms. Visit https://platform.openai.com/account/rate-limits to learn more.', 'type': 'tokens', 'param': None, 'code': 'rate_limit_exceeded'}}.\n",
      " 76%|███████▌  | 99/130 [00:26<00:08,  3.87it/s]Retrying llama_index.llms.openai.base.OpenAI._achat in 0.3740070334213912 seconds as it raised RateLimitError: Error code: 429 - {'error': {'message': 'Rate limit reached for gpt-3.5-turbo-0125 in organization org-rSW8VTGvcLlOXkwlKwR4NiVf on tokens per min (TPM): Limit 60000, Used 58659, Requested 2459. Please try again in 1.118s. Visit https://platform.openai.com/account/rate-limits to learn more.', 'type': 'tokens', 'param': None, 'code': 'rate_limit_exceeded'}}.\n",
      "Retrying llama_index.llms.openai.base.OpenAI._achat in 3.9177017824351523 seconds as it raised RateLimitError: Error code: 429 - {'error': {'message': 'Rate limit reached for gpt-3.5-turbo-0125 in organization org-rSW8VTGvcLlOXkwlKwR4NiVf on tokens per min (TPM): Limit 60000, Used 58430, Requested 2393. Please try again in 823ms. Visit https://platform.openai.com/account/rate-limits to learn more.', 'type': 'tokens', 'param': None, 'code': 'rate_limit_exceeded'}}.\n",
      " 77%|███████▋  | 100/130 [00:27<00:15,  1.89it/s]Retrying llama_index.llms.openai.base.OpenAI._achat in 0.3273258322170962 seconds as it raised RateLimitError: Error code: 429 - {'error': {'message': 'Rate limit reached for gpt-3.5-turbo-0125 in organization org-rSW8VTGvcLlOXkwlKwR4NiVf on tokens per min (TPM): Limit 60000, Used 57933, Requested 2413. Please try again in 346ms. Visit https://platform.openai.com/account/rate-limits to learn more.', 'type': 'tokens', 'param': None, 'code': 'rate_limit_exceeded'}}.\n",
      "Retrying llama_index.llms.openai.base.OpenAI._achat in 2.7214134837080914 seconds as it raised RateLimitError: Error code: 429 - {'error': {'message': 'Rate limit reached for gpt-3.5-turbo-0125 in organization org-rSW8VTGvcLlOXkwlKwR4NiVf on tokens per min (TPM): Limit 60000, Used 57889, Requested 2445. Please try again in 334ms. Visit https://platform.openai.com/account/rate-limits to learn more.', 'type': 'tokens', 'param': None, 'code': 'rate_limit_exceeded'}}.\n",
      "Retrying llama_index.llms.openai.base.OpenAI._achat in 1.904291245571998 seconds as it raised RateLimitError: Error code: 429 - {'error': {'message': 'Rate limit reached for gpt-3.5-turbo-0125 in organization org-rSW8VTGvcLlOXkwlKwR4NiVf on tokens per min (TPM): Limit 60000, Used 57840, Requested 2454. Please try again in 294ms. Visit https://platform.openai.com/account/rate-limits to learn more.', 'type': 'tokens', 'param': None, 'code': 'rate_limit_exceeded'}}.\n",
      "Retrying llama_index.llms.openai.base.OpenAI._achat in 2.6910689154644105 seconds as it raised RateLimitError: Error code: 429 - {'error': {'message': 'Rate limit reached for gpt-3.5-turbo-0125 in organization org-rSW8VTGvcLlOXkwlKwR4NiVf on tokens per min (TPM): Limit 60000, Used 57559, Requested 2452. Please try again in 11ms. Visit https://platform.openai.com/account/rate-limits to learn more.', 'type': 'tokens', 'param': None, 'code': 'rate_limit_exceeded'}}.\n",
      "Retrying llama_index.llms.openai.base.OpenAI._achat in 2.523365919293661 seconds as it raised RateLimitError: Error code: 429 - {'error': {'message': 'Rate limit reached for gpt-3.5-turbo-0125 in organization org-rSW8VTGvcLlOXkwlKwR4NiVf on tokens per min (TPM): Limit 60000, Used 57573, Requested 2467. Please try again in 40ms. Visit https://platform.openai.com/account/rate-limits to learn more.', 'type': 'tokens', 'param': None, 'code': 'rate_limit_exceeded'}}.\n",
      " 80%|████████  | 104/130 [00:28<00:07,  3.40it/s]Retrying llama_index.llms.openai.base.OpenAI._achat in 1.35314245225337 seconds as it raised RateLimitError: Error code: 429 - {'error': {'message': 'Rate limit reached for gpt-3.5-turbo-0125 in organization org-rSW8VTGvcLlOXkwlKwR4NiVf on tokens per min (TPM): Limit 60000, Used 59924, Requested 2506. Please try again in 2.43s. Visit https://platform.openai.com/account/rate-limits to learn more.', 'type': 'tokens', 'param': None, 'code': 'rate_limit_exceeded'}}.\n",
      "Retrying llama_index.llms.openai.base.OpenAI._achat in 1.266009343372973 seconds as it raised RateLimitError: Error code: 429 - {'error': {'message': 'Rate limit reached for gpt-3.5-turbo-0125 in organization org-rSW8VTGvcLlOXkwlKwR4NiVf on tokens per min (TPM): Limit 60000, Used 59899, Requested 2515. Please try again in 2.414s. Visit https://platform.openai.com/account/rate-limits to learn more.', 'type': 'tokens', 'param': None, 'code': 'rate_limit_exceeded'}}.\n",
      "Retrying llama_index.llms.openai.base.OpenAI._achat in 1.2513874941924392 seconds as it raised RateLimitError: Error code: 429 - {'error': {'message': 'Rate limit reached for gpt-3.5-turbo-0125 in organization org-rSW8VTGvcLlOXkwlKwR4NiVf on tokens per min (TPM): Limit 60000, Used 59760, Requested 2483. Please try again in 2.243s. Visit https://platform.openai.com/account/rate-limits to learn more.', 'type': 'tokens', 'param': None, 'code': 'rate_limit_exceeded'}}.\n",
      "Retrying llama_index.llms.openai.base.OpenAI._achat in 3.58415740475315 seconds as it raised RateLimitError: Error code: 429 - {'error': {'message': 'Rate limit reached for gpt-3.5-turbo-0125 in organization org-rSW8VTGvcLlOXkwlKwR4NiVf on tokens per min (TPM): Limit 60000, Used 59672, Requested 2457. Please try again in 2.129s. Visit https://platform.openai.com/account/rate-limits to learn more.', 'type': 'tokens', 'param': None, 'code': 'rate_limit_exceeded'}}.\n",
      "Retrying llama_index.llms.openai.base.OpenAI._achat in 1.7945543664814303 seconds as it raised RateLimitError: Error code: 429 - {'error': {'message': 'Rate limit reached for gpt-3.5-turbo-0125 in organization org-rSW8VTGvcLlOXkwlKwR4NiVf on tokens per min (TPM): Limit 60000, Used 59671, Requested 2468. Please try again in 2.139s. Visit https://platform.openai.com/account/rate-limits to learn more.', 'type': 'tokens', 'param': None, 'code': 'rate_limit_exceeded'}}.\n",
      "Retrying llama_index.llms.openai.base.OpenAI._achat in 3.370274226385439 seconds as it raised RateLimitError: Error code: 429 - {'error': {'message': 'Rate limit reached for gpt-3.5-turbo-0125 in organization org-rSW8VTGvcLlOXkwlKwR4NiVf on tokens per min (TPM): Limit 60000, Used 59537, Requested 2482. Please try again in 2.019s. Visit https://platform.openai.com/account/rate-limits to learn more.', 'type': 'tokens', 'param': None, 'code': 'rate_limit_exceeded'}}.\n",
      " 83%|████████▎ | 108/130 [00:30<00:10,  2.18it/s]Retrying llama_index.llms.openai.base.OpenAI._achat in 3.524080228134169 seconds as it raised RateLimitError: Error code: 429 - {'error': {'message': 'Rate limit reached for gpt-3.5-turbo-0125 in organization org-rSW8VTGvcLlOXkwlKwR4NiVf on tokens per min (TPM): Limit 60000, Used 59843, Requested 2504. Please try again in 2.347s. Visit https://platform.openai.com/account/rate-limits to learn more.', 'type': 'tokens', 'param': None, 'code': 'rate_limit_exceeded'}}.\n",
      " 86%|████████▌ | 112/130 [00:32<00:07,  2.26it/s]Retrying llama_index.llms.openai.base.OpenAI._achat in 2.6436289207028145 seconds as it raised RateLimitError: Error code: 429 - {'error': {'message': 'Rate limit reached for gpt-3.5-turbo-0125 in organization org-rSW8VTGvcLlOXkwlKwR4NiVf on tokens per min (TPM): Limit 60000, Used 57698, Requested 2486. Please try again in 184ms. Visit https://platform.openai.com/account/rate-limits to learn more.', 'type': 'tokens', 'param': None, 'code': 'rate_limit_exceeded'}}.\n",
      "Retrying llama_index.llms.openai.base.OpenAI._achat in 3.700227557784518 seconds as it raised RateLimitError: Error code: 429 - {'error': {'message': 'Rate limit reached for gpt-3.5-turbo-0125 in organization org-rSW8VTGvcLlOXkwlKwR4NiVf on tokens per min (TPM): Limit 60000, Used 57720, Requested 2502. Please try again in 222ms. Visit https://platform.openai.com/account/rate-limits to learn more.', 'type': 'tokens', 'param': None, 'code': 'rate_limit_exceeded'}}.\n",
      "Retrying llama_index.llms.openai.base.OpenAI._achat in 0.4309724112163984 seconds as it raised RateLimitError: Error code: 429 - {'error': {'message': 'Rate limit reached for gpt-3.5-turbo-0125 in organization org-rSW8VTGvcLlOXkwlKwR4NiVf on tokens per min (TPM): Limit 60000, Used 59779, Requested 2430. Please try again in 2.209s. Visit https://platform.openai.com/account/rate-limits to learn more.', 'type': 'tokens', 'param': None, 'code': 'rate_limit_exceeded'}}.\n",
      "Retrying llama_index.llms.openai.base.OpenAI._achat in 2.462102123166625 seconds as it raised RateLimitError: Error code: 429 - {'error': {'message': 'Rate limit reached for gpt-3.5-turbo-0125 in organization org-rSW8VTGvcLlOXkwlKwR4NiVf on tokens per min (TPM): Limit 60000, Used 59738, Requested 2445. Please try again in 2.183s. Visit https://platform.openai.com/account/rate-limits to learn more.', 'type': 'tokens', 'param': None, 'code': 'rate_limit_exceeded'}}.\n",
      "Retrying llama_index.llms.openai.base.OpenAI._achat in 0.9814162446766082 seconds as it raised RateLimitError: Error code: 429 - {'error': {'message': 'Rate limit reached for gpt-3.5-turbo-0125 in organization org-rSW8VTGvcLlOXkwlKwR4NiVf on tokens per min (TPM): Limit 60000, Used 59733, Requested 2467. Please try again in 2.2s. Visit https://platform.openai.com/account/rate-limits to learn more.', 'type': 'tokens', 'param': None, 'code': 'rate_limit_exceeded'}}.\n",
      "Retrying llama_index.llms.openai.base.OpenAI._achat in 4.818196325130355 seconds as it raised RateLimitError: Error code: 429 - {'error': {'message': 'Rate limit reached for gpt-3.5-turbo-0125 in organization org-rSW8VTGvcLlOXkwlKwR4NiVf on tokens per min (TPM): Limit 60000, Used 59738, Requested 2468. Please try again in 2.206s. Visit https://platform.openai.com/account/rate-limits to learn more.', 'type': 'tokens', 'param': None, 'code': 'rate_limit_exceeded'}}.\n",
      "Retrying llama_index.llms.openai.base.OpenAI._achat in 4.070778742293638 seconds as it raised RateLimitError: Error code: 429 - {'error': {'message': 'Rate limit reached for gpt-3.5-turbo-0125 in organization org-rSW8VTGvcLlOXkwlKwR4NiVf on tokens per min (TPM): Limit 60000, Used 59705, Requested 2455. Please try again in 2.16s. Visit https://platform.openai.com/account/rate-limits to learn more.', 'type': 'tokens', 'param': None, 'code': 'rate_limit_exceeded'}}.\n",
      "100%|██████████| 130/130 [00:44<00:00,  2.93it/s]\n",
      "100%|██████████| 10/10 [00:05<00:00,  1.87it/s]\n",
      "100%|██████████| 5/5 [00:01<00:00,  2.53it/s]\n",
      "100%|██████████| 4/4 [00:05<00:00,  1.46s/it]\n",
      "100%|██████████| 10/10 [00:01<00:00,  5.30it/s]\n",
      "100%|██████████| 10/10 [00:03<00:00,  3.18it/s]\n",
      "100%|██████████| 5/5 [00:01<00:00,  4.35it/s]\n",
      "100%|██████████| 5/5 [00:01<00:00,  4.92it/s]\n",
      "100%|██████████| 4/4 [00:09<00:00,  2.37s/it]\n",
      "100%|██████████| 5/5 [00:06<00:00,  1.27s/it]\n",
      "100%|██████████| 5/5 [00:10<00:00,  2.17s/it]\n",
      "100%|██████████| 10/10 [00:12<00:00,  1.21s/it]\n",
      "100%|██████████| 10/10 [00:02<00:00,  4.46it/s]\n",
      "100%|██████████| 10/10 [00:10<00:00,  1.04s/it]\n",
      "100%|██████████| 5/5 [00:04<00:00,  1.04it/s]\n",
      "100%|██████████| 10/10 [00:03<00:00,  3.09it/s]\n",
      "100%|██████████| 5/5 [00:01<00:00,  3.88it/s]\n",
      "100%|██████████| 5/5 [00:00<00:00,  5.02it/s]\n",
      "100%|██████████| 10/10 [00:02<00:00,  3.40it/s]\n",
      "100%|██████████| 10/10 [00:02<00:00,  3.76it/s]\n",
      "100%|██████████| 5/5 [00:01<00:00,  2.54it/s]\n",
      "100%|██████████| 10/10 [00:02<00:00,  3.74it/s]\n",
      "100%|██████████| 10/10 [00:05<00:00,  1.67it/s]\n",
      "100%|██████████| 5/5 [00:00<00:00,  6.09it/s]\n",
      "100%|██████████| 10/10 [00:06<00:00,  1.44it/s]\n",
      "100%|██████████| 10/10 [00:02<00:00,  4.63it/s]\n",
      "100%|██████████| 10/10 [00:05<00:00,  1.71it/s]\n",
      "100%|██████████| 10/10 [00:02<00:00,  4.46it/s]\n",
      "100%|██████████| 10/10 [00:03<00:00,  3.17it/s]\n",
      "100%|██████████| 10/10 [00:02<00:00,  3.76it/s]\n",
      "100%|██████████| 4/4 [00:09<00:00,  2.32s/it]\n",
      "100%|██████████| 10/10 [00:03<00:00,  3.30it/s]\n",
      "100%|██████████| 10/10 [00:02<00:00,  3.68it/s]\n",
      "100%|██████████| 5/5 [00:04<00:00,  1.15it/s]\n",
      "100%|██████████| 10/10 [00:08<00:00,  1.14it/s]\n",
      "100%|██████████| 5/5 [00:03<00:00,  1.59it/s]\n",
      "100%|██████████| 10/10 [00:05<00:00,  1.82it/s]\n",
      "100%|██████████| 10/10 [00:02<00:00,  4.31it/s]\n",
      "100%|██████████| 10/10 [00:02<00:00,  3.90it/s]\n",
      "100%|██████████| 10/10 [00:01<00:00,  5.49it/s]\n",
      "100%|██████████| 10/10 [00:05<00:00,  1.90it/s]\n",
      "100%|██████████| 10/10 [00:11<00:00,  1.15s/it]\n",
      "100%|██████████| 10/10 [00:02<00:00,  4.65it/s]\n",
      "100%|██████████| 10/10 [00:07<00:00,  1.38it/s]\n",
      "100%|██████████| 10/10 [00:01<00:00,  5.09it/s]\n",
      "100%|██████████| 10/10 [00:01<00:00,  8.19it/s]\n",
      "100%|██████████| 10/10 [00:07<00:00,  1.41it/s]\n",
      "100%|██████████| 10/10 [00:01<00:00,  7.89it/s]\n",
      "100%|██████████| 4/4 [00:05<00:00,  1.48s/it]\n",
      "100%|██████████| 5/5 [00:02<00:00,  2.27it/s]\n",
      "100%|██████████| 10/10 [00:07<00:00,  1.28it/s]\n",
      "100%|██████████| 4/4 [00:05<00:00,  1.50s/it]\n",
      "100%|██████████| 4/4 [00:03<00:00,  1.04it/s]\n",
      "100%|██████████| 5/5 [00:09<00:00,  1.85s/it]\n",
      "100%|██████████| 10/10 [00:02<00:00,  3.80it/s]\n",
      "100%|██████████| 5/5 [00:01<00:00,  4.14it/s]\n",
      "100%|██████████| 10/10 [00:04<00:00,  2.07it/s]\n",
      "100%|██████████| 10/10 [00:01<00:00,  6.04it/s]\n",
      "100%|██████████| 10/10 [00:02<00:00,  4.92it/s]\n",
      "100%|██████████| 5/5 [00:03<00:00,  1.53it/s]\n",
      "100%|██████████| 10/10 [00:02<00:00,  4.73it/s]\n",
      "100%|██████████| 5/5 [00:07<00:00,  1.40s/it]\n",
      "100%|██████████| 4/4 [00:12<00:00,  3.19s/it]\n",
      "100%|██████████| 5/5 [00:08<00:00,  1.71s/it]\n",
      "100%|██████████| 5/5 [00:01<00:00,  3.99it/s]\n",
      "100%|██████████| 7/7 [00:01<00:00,  5.78it/s]\n",
      "100%|██████████| 10/10 [00:01<00:00,  5.36it/s]\n",
      "100%|██████████| 10/10 [00:02<00:00,  4.53it/s]\n",
      "100%|██████████| 10/10 [00:07<00:00,  1.33it/s]\n",
      "100%|██████████| 5/5 [00:01<00:00,  2.92it/s]\n",
      "100%|██████████| 10/10 [00:04<00:00,  2.22it/s]\n",
      "100%|██████████| 10/10 [00:01<00:00,  6.65it/s]\n",
      "100%|██████████| 10/10 [00:02<00:00,  3.80it/s]\n",
      "100%|██████████| 10/10 [00:02<00:00,  3.73it/s]\n",
      "100%|██████████| 5/5 [00:02<00:00,  2.48it/s]\n",
      "100%|██████████| 10/10 [00:09<00:00,  1.11it/s]\n",
      "100%|██████████| 5/5 [00:00<00:00,  5.00it/s]\n",
      "100%|██████████| 5/5 [00:02<00:00,  2.18it/s]\n",
      "100%|██████████| 10/10 [00:01<00:00,  7.39it/s]\n",
      "100%|██████████| 4/4 [00:05<00:00,  1.43s/it]\n",
      "100%|██████████| 4/4 [00:04<00:00,  1.08s/it]\n",
      "100%|██████████| 10/10 [00:03<00:00,  2.52it/s]\n",
      "100%|██████████| 5/5 [00:01<00:00,  2.56it/s]\n",
      "100%|██████████| 4/4 [00:06<00:00,  1.56s/it]\n",
      "100%|██████████| 10/10 [00:04<00:00,  2.10it/s]\n",
      "100%|██████████| 10/10 [00:02<00:00,  4.82it/s]\n",
      "100%|██████████| 5/5 [00:01<00:00,  4.55it/s]\n",
      "100%|██████████| 5/5 [00:01<00:00,  4.41it/s]\n",
      "100%|██████████| 10/10 [00:02<00:00,  3.83it/s]\n",
      "100%|██████████| 4/4 [00:07<00:00,  1.81s/it]\n",
      "100%|██████████| 5/5 [00:00<00:00,  5.59it/s]\n",
      "100%|██████████| 5/5 [00:00<00:00,  5.70it/s]\n",
      "100%|██████████| 10/10 [00:02<00:00,  3.86it/s]\n",
      "100%|██████████| 10/10 [00:01<00:00,  6.01it/s]\n",
      "100%|██████████| 10/10 [00:01<00:00,  5.74it/s]\n",
      "100%|██████████| 5/5 [00:04<00:00,  1.19it/s]\n",
      "100%|██████████| 5/5 [00:05<00:00,  1.16s/it]\n",
      "100%|██████████| 10/10 [00:00<00:00, 10.16it/s]\n",
      "100%|██████████| 10/10 [00:01<00:00,  6.68it/s]\n",
      "100%|██████████| 10/10 [00:01<00:00,  9.90it/s]\n",
      "100%|██████████| 10/10 [00:03<00:00,  3.14it/s]\n",
      "100%|██████████| 10/10 [00:03<00:00,  2.92it/s]\n",
      "100%|██████████| 10/10 [00:01<00:00,  8.53it/s]\n",
      "100%|██████████| 10/10 [00:04<00:00,  2.10it/s]\n",
      "100%|██████████| 10/10 [00:01<00:00,  6.43it/s]\n",
      "100%|██████████| 5/5 [00:04<00:00,  1.00it/s]\n",
      "100%|██████████| 10/10 [00:02<00:00,  4.43it/s]\n",
      "100%|██████████| 5/5 [00:01<00:00,  4.07it/s]\n",
      "100%|██████████| 4/4 [00:02<00:00,  1.68it/s]\n",
      "100%|██████████| 10/10 [00:01<00:00,  5.05it/s]\n",
      "100%|██████████| 7/7 [00:02<00:00,  2.92it/s]\n",
      "100%|██████████| 10/10 [00:02<00:00,  3.61it/s]\n",
      "100%|██████████| 10/10 [00:04<00:00,  2.10it/s]\n",
      "100%|██████████| 5/5 [00:01<00:00,  4.83it/s]\n",
      "100%|██████████| 10/10 [00:05<00:00,  1.80it/s]\n",
      "100%|██████████| 10/10 [00:04<00:00,  2.04it/s]\n",
      "100%|██████████| 5/5 [00:00<00:00,  6.37it/s]\n",
      "100%|██████████| 5/5 [00:07<00:00,  1.54s/it]\n",
      "100%|██████████| 10/10 [00:03<00:00,  2.92it/s]\n",
      "100%|██████████| 10/10 [00:03<00:00,  2.99it/s]\n",
      "100%|██████████| 5/5 [00:04<00:00,  1.07it/s]\n",
      "100%|██████████| 4/4 [00:02<00:00,  1.84it/s]\n",
      "100%|██████████| 4/4 [00:05<00:00,  1.27s/it]\n",
      "100%|██████████| 5/5 [00:00<00:00,  5.69it/s]\n",
      "100%|██████████| 10/10 [00:03<00:00,  2.87it/s]\n",
      "100%|██████████| 4/4 [00:03<00:00,  1.02it/s]\n",
      "100%|██████████| 5/5 [00:00<00:00,  5.05it/s]\n",
      "100%|██████████| 10/10 [00:02<00:00,  4.28it/s]\n",
      "100%|██████████| 10/10 [00:02<00:00,  3.71it/s]\n",
      "100%|██████████| 10/10 [00:02<00:00,  4.21it/s]\n",
      "100%|██████████| 4/4 [00:02<00:00,  1.78it/s]\n",
      "/home/carlosjosuna/.local/share/virtualenvs/wine_parings-Y4sTaGQc/lib/python3.8/site-packages/llama_index/core/evaluation/dataset_generation.py:309: DeprecationWarning: Call to deprecated class QueryResponseDataset. (Deprecated in favor of `LabelledRagDataset` which should be used instead.)\n",
      "  return QueryResponseDataset(queries=queries, responses=responses_dict)\n"
     ]
    }
   ],
   "source": [
    "\n",
    "eval_dataset_path = Path(\"./app/data/evaluation/evaluation_evolved.json\")\n",
    "\n",
    "data_generator = DatasetGenerator.from_documents(\n",
    "    kg_pairings.sample(n=3000),\n",
    "    service_context=service_context,\n",
    "    question_gen_query=question_gen_query,\n",
    "    num_questions_per_chunk=2,\n",
    "    show_progress = True\n",
    ")\n",
    "eval_dataset = data_generator.generate_dataset_from_nodes(130)\n",
    "eval_dataset.save_json(eval_dataset_path)"
   ]
  },
  {
   "cell_type": "code",
   "execution_count": null,
   "metadata": {},
   "outputs": [],
   "source": []
  }
 ],
 "metadata": {
  "kernelspec": {
   "display_name": "wine_parings-Y4sTaGQc",
   "language": "python",
   "name": "python3"
  },
  "language_info": {
   "codemirror_mode": {
    "name": "ipython",
    "version": 3
   },
   "file_extension": ".py",
   "mimetype": "text/x-python",
   "name": "python",
   "nbconvert_exporter": "python",
   "pygments_lexer": "ipython3",
   "version": "3.8.10"
  }
 },
 "nbformat": 4,
 "nbformat_minor": 2
}
