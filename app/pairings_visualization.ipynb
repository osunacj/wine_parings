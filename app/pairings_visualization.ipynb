{
 "cells": [
  {
   "cell_type": "code",
   "execution_count": null,
   "metadata": {},
   "outputs": [],
   "source": [
    "import numpy as np\n",
    "import pandas as pd\n",
    "import matplotlib.pyplot as plt\n",
    "from notebooks.helpers.models.embedding_model import PredictionModel\n",
    "from generate_embeddings import get_wine_dataframe, get_food_dataframe\n",
    "# from notebooks.helpers.prep.view_embeddings import view_embeddings_of_ingredient\n",
    "from generate_pairings import compute_embedding_food_ingredients, get_the_closest_embedding, get_food_embedding_dict, get_descriptor_frequencies, get_production_wines, generate_pairing_for_ingredients, normalize_production_wines\n",
    "import networkx as nx\n",
    "from pyvis.network import Network\n",
    "from pathlib import Path\n",
    "\n",
    "from app.notebooks.helpers.bot.kg_generation import create_wine_triplets, create_variety_descriptor_triplets, create_food_triplets\n",
    "\n",
    "%matplotlib inline\n"
   ]
  },
  {
   "cell_type": "code",
   "execution_count": null,
   "metadata": {},
   "outputs": [],
   "source": [
    "KG = pd.concat([create_variety_descriptor_triplets(), create_wine_triplets(), create_food_triplets()], axis=0)"
   ]
  },
  {
   "cell_type": "code",
   "execution_count": null,
   "metadata": {},
   "outputs": [],
   "source": [
    "# KG = pd.DataFrame({'head': triplets['heads'], \"tail\": triplets['tails'], 'edges': triplets['edges']\n",
    "# })\n",
    "# G=nx.from_pandas_edgelist(KG, \"head\", \"tail\", edge_key = 'labels', create_using=nx.MultiDiGraph())\n",
    "\n",
    "G = nx.DiGraph()\n",
    "for _, row in KG.iterrows():\n",
    "    G.add_edge(row['head'], row['tail'], label=row['edges'])\n",
    "    # G.nodes[row['tail']]['label'] = row['node_label']"
   ]
  },
  {
   "cell_type": "code",
   "execution_count": null,
   "metadata": {},
   "outputs": [],
   "source": [
    "# for edge in G.edges(data=True):\n",
    "#     print(edge)"
   ]
  },
  {
   "cell_type": "code",
   "execution_count": null,
   "metadata": {},
   "outputs": [],
   "source": [
    "pos = nx.spring_layout(G, seed=42, k=1.5)\n",
    "labels = nx.get_edge_attributes(G, 'label')\n",
    "plt.figure(figsize=(20, 20))\n",
    "nx.draw(G, pos, font_size=8, node_size=200, node_color='lightblue', edge_color='gray', alpha=0.6)\n",
    "# nx.draw_networkx_edge_labels(G, pos, font_size=3, label_pos=0.3, verticalalignment='baseline')\n",
    "plt.title('Knowledge Graph')\n",
    "plt.show()"
   ]
  },
  {
   "cell_type": "code",
   "execution_count": null,
   "metadata": {},
   "outputs": [],
   "source": [
    "net = Network(notebook = True, cdn_resources = \"remote\",\n",
    "                bgcolor = \"#222222\",\n",
    "                font_color = \"white\",\n",
    "                height = \"750px\",\n",
    "                width = \"100%\",\n",
    "                select_menu = True,\n",
    "                filter_menu = True,\n",
    ")\n",
    "net.show_buttons(filter_=\"physics\")\n",
    "net.from_nx(G)\n",
    "net.show(\"nx.html\")"
   ]
  },
  {
   "cell_type": "code",
   "execution_count": null,
   "metadata": {},
   "outputs": [],
   "source": [
    "# net.set_options()"
   ]
  },
  {
   "cell_type": "code",
   "execution_count": null,
   "metadata": {},
   "outputs": [],
   "source": [
    "from pathlib import Path\n",
    "import pandas as pd\n",
    "import numpy as np\n",
    "import pickle\n",
    "import matplotlib.pyplot as plt\n",
    "from notebooks.helpers.prep.view_embeddings import reduce_ingredients_dimension, plot_pca_vectors_2d, reduce_embedding_dimensions\n",
    "from generate_pairings import get_production_wines, nparray_str_to_list"
   ]
  },
  {
   "cell_type": "code",
   "execution_count": null,
   "metadata": {},
   "outputs": [],
   "source": [
    "wine_average_embeddings_path = Path(\n",
    "        \"./app/notebooks/helpers/models/wine_average_embeddings.pkl\"\n",
    "    )\n",
    "\n",
    "with wine_average_embeddings_path.open(\"rb\") as f:\n",
    "    wine_average_embeddings = pickle.load(f) \n",
    "\n",
    "wines_df = get_production_wines()"
   ]
  },
  {
   "cell_type": "code",
   "execution_count": null,
   "metadata": {},
   "outputs": [],
   "source": [
    "# wines_df.loc[wines_df.index.str.contains('Ries') == True]\n",
    "wines_df.index[::24]"
   ]
  },
  {
   "cell_type": "code",
   "execution_count": null,
   "metadata": {},
   "outputs": [],
   "source": [
    "def determine_variety(instance):\n",
    "    varieties = ['chardonnay',]\n",
    "    for variety in varieties:\n",
    "        if variety in instance.lower():\n",
    "            return variety\n",
    "\n",
    "    return np.nan"
   ]
  },
  {
   "cell_type": "code",
   "execution_count": null,
   "metadata": {},
   "outputs": [],
   "source": [
    "wines_df['variety'] = wines_df.apply(lambda x: determine_variety(x.name),axis = 1)"
   ]
  },
  {
   "cell_type": "code",
   "execution_count": null,
   "metadata": {},
   "outputs": [],
   "source": [
    "# wines_df['country'].iloc[0]"
   ]
  },
  {
   "cell_type": "code",
   "execution_count": null,
   "metadata": {},
   "outputs": [],
   "source": [
    "wines_df.dropna(subset=['variety'], inplace=True)\n",
    "wines_df['country'] = wines_df.apply(lambda x: x.name.split(',')[-1] ,axis = 1)\n",
    "wines_df = wines_df[wines_df['country'].isin([' France', ' USA', ' Chile', ' New Zealand'])]"
   ]
  },
  {
   "cell_type": "code",
   "execution_count": null,
   "metadata": {},
   "outputs": [],
   "source": [
    "wines_df['variety & country'] = wines_df['variety'] + ' ' + wines_df['country']"
   ]
  },
  {
   "cell_type": "code",
   "execution_count": null,
   "metadata": {},
   "outputs": [],
   "source": [
    "wines_df = wines_df[['aroma', 'variety & country']]"
   ]
  },
  {
   "cell_type": "code",
   "execution_count": null,
   "metadata": {},
   "outputs": [],
   "source": [
    "wines_df['aroma'] = wines_df['aroma'].apply(nparray_str_to_list)"
   ]
  },
  {
   "cell_type": "code",
   "execution_count": null,
   "metadata": {},
   "outputs": [],
   "source": [
    "wines_df['variety & country']"
   ]
  },
  {
   "cell_type": "code",
   "execution_count": null,
   "metadata": {},
   "outputs": [],
   "source": [
    "variety_country = {value:[] for value in wines_df['variety & country'].values}"
   ]
  },
  {
   "cell_type": "code",
   "execution_count": null,
   "metadata": {},
   "outputs": [],
   "source": [
    "variety_country.keys()"
   ]
  },
  {
   "cell_type": "code",
   "execution_count": null,
   "metadata": {},
   "outputs": [],
   "source": [
    "for value, embedding in zip(wines_df['variety & country'].values, wines_df['aroma'].values):\n",
    "    variety_country[value].append(embedding)"
   ]
  },
  {
   "cell_type": "code",
   "execution_count": null,
   "metadata": {},
   "outputs": [],
   "source": [
    "from numpy import concatenate\n",
    "\n",
    "\n",
    "embeddings_to_reduce = np.stack(np.concatenate(\n",
    "    [embeddings for embeddings in variety_country.values()]))\n",
    "\n",
    "\n",
    "reduced_embeddings = reduce_embedding_dimensions(embeddings_to_reduce, 2)\n",
    "\n",
    "count = 0\n",
    "for ingredient, embeddings in variety_country.items():\n",
    "    size = len(embeddings)\n",
    "    variety_country[ingredient] = reduced_embeddings[count : count + size]\n",
    "    count += size\n",
    "\n",
    "fig = plt.figure(figsize=(6, 6))\n",
    "ax = fig.add_subplot()\n",
    "for ingredient, pca_components in variety_country.items():\n",
    "    x = []\n",
    "    y = []\n",
    "    for pca_component in pca_components:\n",
    "        x.append(pca_component[0])\n",
    "        y.append(pca_component[1])\n",
    "\n",
    "    ax.scatter(\n",
    "        x,\n",
    "        y,\n",
    "        s=20,\n",
    "        label=ingredient,\n",
    "        marker=\"x\" if \"target\" not in ingredient else \"x\",\n",
    "    )\n",
    "plt.title(\"PCA on Chardonnay Wines from various countries\")\n",
    "plt.legend()\n",
    "ax.set_xlabel(\"1st Component\")\n",
    "ax.set_ylabel(\"2nd Component\")\n",
    "plt.show()\n"
   ]
  },
  {
   "cell_type": "code",
   "execution_count": 1,
   "metadata": {},
   "outputs": [],
   "source": [
    "from pathlib import Path\n",
    "import pandas as pd\n",
    "import numpy as np\n",
    "import pickle\n",
    "import matplotlib.pyplot as plt\n",
    "from notebooks.helpers.prep.view_embeddings import reduce_ingredients_dimension, plot_pca_vectors_2d, reduce_embedding_dimensions\n",
    "from generate_pairings import get_production_wines, nparray_str_to_list, get_food_taste_distances_info"
   ]
  },
  {
   "cell_type": "code",
   "execution_count": 2,
   "metadata": {},
   "outputs": [],
   "source": [
    "def normalize(df, cols_to_normalize):\n",
    "    for feature_name in cols_to_normalize:\n",
    "        max_value = df[feature_name].max()\n",
    "        min_value = df[feature_name].min()\n",
    "        df[feature_name] = df[feature_name].apply(\n",
    "            lambda x: (x - min_value) / (max_value - min_value)\n",
    "        )\n",
    "    return df"
   ]
  },
  {
   "cell_type": "code",
   "execution_count": 30,
   "metadata": {},
   "outputs": [],
   "source": [
    "food_average_distances, food_tastes_distances = get_food_taste_distances_info()"
   ]
  },
  {
   "cell_type": "code",
   "execution_count": 31,
   "metadata": {},
   "outputs": [],
   "source": [
    "food_distances = pd.DataFrame({'distances_piquant': food_tastes_distances['piquant'].values(),'distances_sweet': food_tastes_distances['sweet'].values(), 'distances_acid': food_tastes_distances['acid'].values(), 'distances_bitter': food_tastes_distances['bitter'].values(), 'distances_weight': food_tastes_distances['weight'].values(), 'distances_fat': food_tastes_distances['fat'].values(), 'distances_salt': food_tastes_distances['salt'].values() }, index=food_tastes_distances['aroma'].keys())"
   ]
  },
  {
   "cell_type": "code",
   "execution_count": 33,
   "metadata": {},
   "outputs": [],
   "source": [
    "food_distances = normalize(food_distances, cols_to_normalize=['distances_piquant', 'distances_fat', 'distances_sweet', 'distances_acid', 'distances_bitter','distances_weight', 'distances_salt'])"
   ]
  },
  {
   "cell_type": "code",
   "execution_count": 34,
   "metadata": {},
   "outputs": [
    {
     "data": {
      "text/html": [
       "<div>\n",
       "<style scoped>\n",
       "    .dataframe tbody tr th:only-of-type {\n",
       "        vertical-align: middle;\n",
       "    }\n",
       "\n",
       "    .dataframe tbody tr th {\n",
       "        vertical-align: top;\n",
       "    }\n",
       "\n",
       "    .dataframe thead th {\n",
       "        text-align: right;\n",
       "    }\n",
       "</style>\n",
       "<table border=\"1\" class=\"dataframe\">\n",
       "  <thead>\n",
       "    <tr style=\"text-align: right;\">\n",
       "      <th></th>\n",
       "      <th>distances_piquant</th>\n",
       "      <th>distances_sweet</th>\n",
       "      <th>distances_acid</th>\n",
       "      <th>distances_bitter</th>\n",
       "      <th>distances_weight</th>\n",
       "      <th>distances_fat</th>\n",
       "      <th>distances_salt</th>\n",
       "    </tr>\n",
       "  </thead>\n",
       "  <tbody>\n",
       "    <tr>\n",
       "      <th>acorn</th>\n",
       "      <td>0.777222</td>\n",
       "      <td>0.683392</td>\n",
       "      <td>0.777929</td>\n",
       "      <td>0.867736</td>\n",
       "      <td>0.811885</td>\n",
       "      <td>0.809319</td>\n",
       "      <td>0.797112</td>\n",
       "    </tr>\n",
       "    <tr>\n",
       "      <th>acorn_squash</th>\n",
       "      <td>0.415016</td>\n",
       "      <td>0.337780</td>\n",
       "      <td>0.257909</td>\n",
       "      <td>0.551918</td>\n",
       "      <td>0.361879</td>\n",
       "      <td>0.336663</td>\n",
       "      <td>0.329133</td>\n",
       "    </tr>\n",
       "    <tr>\n",
       "      <th>adobo_sauce</th>\n",
       "      <td>0.501391</td>\n",
       "      <td>0.534494</td>\n",
       "      <td>0.657404</td>\n",
       "      <td>0.509118</td>\n",
       "      <td>0.704316</td>\n",
       "      <td>0.658078</td>\n",
       "      <td>0.711564</td>\n",
       "    </tr>\n",
       "    <tr>\n",
       "      <th>adobo_seasoning</th>\n",
       "      <td>0.546041</td>\n",
       "      <td>0.656928</td>\n",
       "      <td>0.766309</td>\n",
       "      <td>0.615732</td>\n",
       "      <td>0.723874</td>\n",
       "      <td>0.713944</td>\n",
       "      <td>0.854430</td>\n",
       "    </tr>\n",
       "    <tr>\n",
       "      <th>agave</th>\n",
       "      <td>0.787685</td>\n",
       "      <td>0.778019</td>\n",
       "      <td>0.852231</td>\n",
       "      <td>0.787985</td>\n",
       "      <td>0.851994</td>\n",
       "      <td>0.873779</td>\n",
       "      <td>0.814476</td>\n",
       "    </tr>\n",
       "  </tbody>\n",
       "</table>\n",
       "</div>"
      ],
      "text/plain": [
       "                 distances_piquant  distances_sweet  distances_acid  \\\n",
       "acorn                     0.777222         0.683392        0.777929   \n",
       "acorn_squash              0.415016         0.337780        0.257909   \n",
       "adobo_sauce               0.501391         0.534494        0.657404   \n",
       "adobo_seasoning           0.546041         0.656928        0.766309   \n",
       "agave                     0.787685         0.778019        0.852231   \n",
       "\n",
       "                 distances_bitter  distances_weight  distances_fat  \\\n",
       "acorn                    0.867736          0.811885       0.809319   \n",
       "acorn_squash             0.551918          0.361879       0.336663   \n",
       "adobo_sauce              0.509118          0.704316       0.658078   \n",
       "adobo_seasoning          0.615732          0.723874       0.713944   \n",
       "agave                    0.787985          0.851994       0.873779   \n",
       "\n",
       "                 distances_salt  \n",
       "acorn                  0.797112  \n",
       "acorn_squash           0.329133  \n",
       "adobo_sauce            0.711564  \n",
       "adobo_seasoning        0.854430  \n",
       "agave                  0.814476  "
      ]
     },
     "execution_count": 34,
     "metadata": {},
     "output_type": "execute_result"
    }
   ],
   "source": [
    "food_distances.head()"
   ]
  },
  {
   "cell_type": "code",
   "execution_count": 54,
   "metadata": {},
   "outputs": [
    {
     "data": {
      "text/plain": [
       "0.5979802462770322"
      ]
     },
     "execution_count": 54,
     "metadata": {},
     "output_type": "execute_result"
    }
   ],
   "source": [
    "wines_df = food_distances\n",
    "taste = 'distances_bitter'\n",
    "wines_df[taste].mean()"
   ]
  },
  {
   "cell_type": "code",
   "execution_count": 55,
   "metadata": {},
   "outputs": [
    {
     "name": "stdout",
     "output_type": "stream",
     "text": [
      "distances_bitter\n",
      "False    1392\n",
      "True      589\n",
      "Name: count, dtype: int64\n",
      "distances_bitter\n",
      "False    1505\n",
      "True      476\n",
      "Name: count, dtype: int64\n",
      "distances_bitter\n",
      "False    1507\n",
      "True      474\n",
      "Name: count, dtype: int64\n",
      "distances_bitter\n",
      "False    1540\n",
      "True      441\n",
      "Name: count, dtype: int64\n"
     ]
    }
   ],
   "source": [
    "print(wines_df.value_counts(wines_df[taste].apply(lambda x: x > 0 and x <= 0.5)))\n",
    "print(wines_df.value_counts(wines_df[taste].apply(lambda x: x > 0.5 and x <= 0.6)))\n",
    "print(wines_df.value_counts(wines_df[taste].apply(lambda x: x > 0.6 and x <= 0.75 )))\n",
    "print(wines_df.value_counts(wines_df[taste].apply(lambda x: x > 0.75 and x <= 1 )))\n",
    "# print(wines_df.value_counts(wines_df['salt'].apply(lambda x: x > 0.8 and x <= 1 )))"
   ]
  },
  {
   "cell_type": "code",
   "execution_count": 10,
   "metadata": {},
   "outputs": [
    {
     "name": "stdout",
     "output_type": "stream",
     "text": [
      "1981\n"
     ]
    }
   ],
   "source": [
    "print(food_distances['distances_weight']food_distances['distances_weight'].count())"
   ]
  },
  {
   "cell_type": "code",
   "execution_count": null,
   "metadata": {},
   "outputs": [],
   "source": []
  }
 ],
 "metadata": {
  "kernelspec": {
   "display_name": "wine_parings-Y4sTaGQc",
   "language": "python",
   "name": "python3"
  },
  "language_info": {
   "codemirror_mode": {
    "name": "ipython",
    "version": 3
   },
   "file_extension": ".py",
   "mimetype": "text/x-python",
   "name": "python",
   "nbconvert_exporter": "python",
   "pygments_lexer": "ipython3",
   "version": "3.8.10"
  }
 },
 "nbformat": 4,
 "nbformat_minor": 2
}
